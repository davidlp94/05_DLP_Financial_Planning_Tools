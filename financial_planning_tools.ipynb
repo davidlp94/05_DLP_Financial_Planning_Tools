{
 "cells": [
  {
   "cell_type": "markdown",
   "metadata": {},
   "source": [
    "# Financial Planning with APIs and Simulations\n",
    "\n",
    "In this Challenge, you’ll create two financial analysis tools by using a single Jupyter notebook:\n",
    "\n",
    "Part 1: A financial planner for emergencies. The members will be able to use this tool to visualize their current savings. The members can then determine if they have enough reserves for an emergency fund.\n",
    "\n",
    "Part 2: A financial planner for retirement. This tool will forecast the performance of their retirement portfolio in 30 years. To do this, the tool will make an Alpaca API call via the Alpaca SDK to get historical price data for use in Monte Carlo simulations.\n",
    "\n",
    "You’ll use the information from the Monte Carlo simulation to answer questions about the portfolio in your Jupyter notebook.\n",
    "\n"
   ]
  },
  {
   "cell_type": "code",
   "execution_count": 1,
   "metadata": {},
   "outputs": [],
   "source": [
    "# Import the required libraries and dependencies\n",
    "import os\n",
    "import requests\n",
    "import json\n",
    "import pandas as pd\n",
    "from dotenv import load_dotenv\n",
    "import alpaca_trade_api as tradeapi\n",
    "from MCForecastTools import MCSimulation\n",
    "\n",
    "%matplotlib inline\n",
    "import matplotlib.pyplot as plt"
   ]
  },
  {
   "cell_type": "code",
   "execution_count": 2,
   "metadata": {},
   "outputs": [
    {
     "data": {
      "text/plain": [
       "True"
      ]
     },
     "execution_count": 2,
     "metadata": {},
     "output_type": "execute_result"
    }
   ],
   "source": [
    "# Load the environment variables from the .env file\n",
    "#by calling the load_dotenv function\n",
    "load_dotenv()"
   ]
  },
  {
   "cell_type": "markdown",
   "metadata": {},
   "source": [
    "## Part 1: Create a Financial Planner for Emergencies"
   ]
  },
  {
   "cell_type": "markdown",
   "metadata": {},
   "source": [
    "### Evaluate the Cryptocurrency Wallet by Using the Requests Library\n",
    "\n",
    "In this section, you’ll determine the current value of a member’s cryptocurrency wallet. You’ll collect the current prices for the Bitcoin and Ethereum cryptocurrencies by using the Python Requests library. For the prototype, you’ll assume that the member holds the 1.2 Bitcoins (BTC) and 5.3 Ethereum coins (ETH). To do all this, complete the following steps:\n",
    "\n",
    "1. Create a variable named `monthly_income`, and set its value to `12000`.\n",
    "\n",
    "2. Use the Requests library to get the current price (in US dollars) of Bitcoin (BTC) and Ethereum (ETH) by using the API endpoints that the starter code supplies.\n",
    "\n",
    "3. Navigate the JSON response object to access the current price of each coin, and store each in a variable.\n",
    "\n",
    "    > **Hint** Note the specific identifier for each cryptocurrency in the API JSON response. The Bitcoin identifier is `1`, and the Ethereum identifier is `1027`.\n",
    "\n",
    "4. Calculate the value, in US dollars, of the current amount of each cryptocurrency and of the entire cryptocurrency wallet.\n",
    "\n"
   ]
  },
  {
   "cell_type": "code",
   "execution_count": 3,
   "metadata": {},
   "outputs": [],
   "source": [
    "# The current number of coins for each cryptocurrency asset held in the portfolio.\n",
    "btc_coins = 1.2\n",
    "eth_coins = 5.3"
   ]
  },
  {
   "cell_type": "markdown",
   "metadata": {},
   "source": [
    "#### Step 1: Create a variable named `monthly_income`, and set its value to `12000`."
   ]
  },
  {
   "cell_type": "code",
   "execution_count": 4,
   "metadata": {},
   "outputs": [],
   "source": [
    "# The monthly amount for the member's household income\n",
    "monthly_income = 12000\n"
   ]
  },
  {
   "cell_type": "markdown",
   "metadata": {},
   "source": [
    "#### Review the endpoint URLs for the API calls to Free Crypto API in order to get the current pricing information for both BTC and ETH."
   ]
  },
  {
   "cell_type": "code",
   "execution_count": 5,
   "metadata": {},
   "outputs": [],
   "source": [
    "# The Free Crypto API Call endpoint URLs for the held cryptocurrency assets\n",
    "btc_url = \"https://api.alternative.me/v2/ticker/Bitcoin/?convert=USD\"\n",
    "eth_url = \"https://api.alternative.me/v2/ticker/Ethereum/?convert=USD\""
   ]
  },
  {
   "cell_type": "markdown",
   "metadata": {},
   "source": [
    "#### Step 2. Use the Requests library to get the current price (in US dollars) of Bitcoin (BTC) and Ethereum (ETH) by using the API endpoints that the starter code supplied."
   ]
  },
  {
   "cell_type": "code",
   "execution_count": 6,
   "metadata": {},
   "outputs": [
    {
     "name": "stdout",
     "output_type": "stream",
     "text": [
      "{\n",
      "    \"data\": {\n",
      "        \"1\": {\n",
      "            \"circulating_supply\": 18945437,\n",
      "            \"id\": 1,\n",
      "            \"last_updated\": 1643680730,\n",
      "            \"max_supply\": 21000000,\n",
      "            \"name\": \"Bitcoin\",\n",
      "            \"quotes\": {\n",
      "                \"USD\": {\n",
      "                    \"market_cap\": 725254688829,\n",
      "                    \"percent_change_1h\": -0.220482533594759,\n",
      "                    \"percent_change_24h\": 3.78029898582337,\n",
      "                    \"percent_change_7d\": 4.19452604794731,\n",
      "                    \"percentage_change_1h\": -0.220482533594759,\n",
      "                    \"percentage_change_24h\": 3.78029898582337,\n",
      "                    \"percentage_change_7d\": 4.19452604794731,\n",
      "                    \"price\": 38317.0,\n",
      "                    \"volume_24h\": 16763255176\n",
      "                }\n",
      "            },\n",
      "            \"rank\": 1,\n",
      "            \"symbol\": \"BTC\",\n",
      "            \"total_supply\": 18945437,\n",
      "            \"website_slug\": \"bitcoin\"\n",
      "        }\n",
      "    },\n",
      "    \"metadata\": {\n",
      "        \"error\": null,\n",
      "        \"num_cryptocurrencies\": 3105,\n",
      "        \"timestamp\": 1643680730\n",
      "    }\n",
      "}\n",
      "-----\n"
     ]
    }
   ],
   "source": [
    "# Using the Python requests library, make an API call to access the current price of BTC\n",
    "btc_response = requests.get(btc_url).json()\n",
    "\n",
    "# Use the json.dumps function to review the response data from the API call\n",
    "# Use the indent and sort_keys parameters to make the response object readable\n",
    "# YOUR CODE HERE\n",
    "print(json.dumps(btc_response, indent=4, sort_keys=True))\n",
    "print('-----')"
   ]
  },
  {
   "cell_type": "code",
   "execution_count": 7,
   "metadata": {},
   "outputs": [
    {
     "name": "stdout",
     "output_type": "stream",
     "text": [
      "{\n",
      "    \"data\": {\n",
      "        \"1027\": {\n",
      "            \"circulating_supply\": 119394349,\n",
      "            \"id\": 1027,\n",
      "            \"last_updated\": 1643680688,\n",
      "            \"max_supply\": 0,\n",
      "            \"name\": \"Ethereum\",\n",
      "            \"quotes\": {\n",
      "                \"USD\": {\n",
      "                    \"market_cap\": 321409152756,\n",
      "                    \"percent_change_1h\": 0.0396365313173658,\n",
      "                    \"percent_change_24h\": 5.95319054617008,\n",
      "                    \"percent_change_7d\": 9.89797897078233,\n",
      "                    \"percentage_change_1h\": 0.0396365313173658,\n",
      "                    \"percentage_change_24h\": 5.95319054617008,\n",
      "                    \"percentage_change_7d\": 9.89797897078233,\n",
      "                    \"price\": 2690.12,\n",
      "                    \"volume_24h\": 13346525682\n",
      "                }\n",
      "            },\n",
      "            \"rank\": 2,\n",
      "            \"symbol\": \"ETH\",\n",
      "            \"total_supply\": 119394349,\n",
      "            \"website_slug\": \"ethereum\"\n",
      "        }\n",
      "    },\n",
      "    \"metadata\": {\n",
      "        \"error\": null,\n",
      "        \"num_cryptocurrencies\": 3105,\n",
      "        \"timestamp\": 1643680688\n",
      "    }\n",
      "}\n",
      "-----\n"
     ]
    }
   ],
   "source": [
    "# Using the Python requests library, make an API call to access the current price ETH\n",
    "eth_response = requests.get(eth_url).json()\n",
    "\n",
    "# Use the json.dumps function to review the response data from the API call\n",
    "# Use the indent and sort_keys parameters to make the response object readable\n",
    "print(json.dumps(eth_response, indent=4, sort_keys=True))\n",
    "print('-----')"
   ]
  },
  {
   "cell_type": "markdown",
   "metadata": {},
   "source": [
    "#### Step 3: Navigate the JSON response object to access the current price of each coin, and store each in a variable."
   ]
  },
  {
   "cell_type": "code",
   "execution_count": 8,
   "metadata": {},
   "outputs": [
    {
     "name": "stdout",
     "output_type": "stream",
     "text": [
      "The current price of Bitcoin is $38317.0.\n",
      "-----\n"
     ]
    }
   ],
   "source": [
    "# Navigate the BTC response object to access the current price of BTC\n",
    "btc_price = btc_response['data']['1']['quotes']['USD']['price']\n",
    "\n",
    "# Print the current price of BTC\n",
    "print(f\"The current price of Bitcoin is ${btc_price}.\")\n",
    "print('-----')"
   ]
  },
  {
   "cell_type": "code",
   "execution_count": 9,
   "metadata": {},
   "outputs": [
    {
     "name": "stdout",
     "output_type": "stream",
     "text": [
      "The current price of Ethereum is $2690.12.\n",
      "-----\n"
     ]
    }
   ],
   "source": [
    "# Navigate the BTC response object to access the current price of ETH\n",
    "eth_price = eth_response['data']['1027']['quotes']['USD']['price']\n",
    "\n",
    "# Print the current price of ETH\n",
    "print(f\"The current price of Ethereum is ${eth_price}.\")\n",
    "print('-----')"
   ]
  },
  {
   "cell_type": "markdown",
   "metadata": {},
   "source": [
    "### Step 4: Calculate the value, in US dollars, of the current amount of each cryptocurrency and of the entire cryptocurrency wallet."
   ]
  },
  {
   "cell_type": "code",
   "execution_count": 10,
   "metadata": {},
   "outputs": [
    {
     "name": "stdout",
     "output_type": "stream",
     "text": [
      "The current value of BTC holdings in USD is $45980.4.\n",
      "-----\n"
     ]
    }
   ],
   "source": [
    "# Compute the current value of the BTC holding \n",
    "btc_value = btc_price*btc_coins\n",
    "\n",
    "# Print current value of your holding in BTC\n",
    "print(f\"The current value of BTC holdings in USD is ${btc_value}.\")\n",
    "print('-----')"
   ]
  },
  {
   "cell_type": "code",
   "execution_count": 11,
   "metadata": {},
   "outputs": [
    {
     "name": "stdout",
     "output_type": "stream",
     "text": [
      "The current value of ETH holdings in USD is $14257.635999999999.\n",
      "-----\n"
     ]
    }
   ],
   "source": [
    "# Compute the current value of the ETH holding \n",
    "eth_value = eth_price*eth_coins\n",
    "\n",
    "# Print current value of your holding in ETH\n",
    "print(f\"The current value of ETH holdings in USD is ${eth_value}.\")\n",
    "print('-----')"
   ]
  },
  {
   "cell_type": "code",
   "execution_count": 12,
   "metadata": {},
   "outputs": [
    {
     "name": "stdout",
     "output_type": "stream",
     "text": [
      "The current cryptocurrency wallet balance is $60238.04.\n",
      "-----\n"
     ]
    }
   ],
   "source": [
    "# Compute the total value of the cryptocurrency wallet\n",
    "# Add the value of the BTC holding to the value of the ETH holding\n",
    "total_crypto_wallet = btc_value + eth_value\n",
    "\n",
    "# Print current cryptocurrency wallet balance\n",
    "print(f\"The current cryptocurrency wallet balance is ${total_crypto_wallet:.2f}.\")\n",
    "print('-----')"
   ]
  },
  {
   "cell_type": "markdown",
   "metadata": {},
   "source": [
    "### Evaluate the Stock and Bond Holdings by Using the Alpaca SDK\n",
    "\n",
    "In this section, you’ll determine the current value of a member’s stock and bond holdings. You’ll make an API call to Alpaca via the Alpaca SDK to get the current closing prices of the SPDR S&P 500 ETF Trust (ticker: SPY) and of the iShares Core US Aggregate Bond ETF (ticker: AGG). For the prototype, assume that the member holds 110 shares of SPY, which represents the stock portion of their portfolio, and 200 shares of AGG, which represents the bond portion. To do all this, complete the following steps:\n",
    "\n",
    "1. In the `Starter_Code` folder, create an environment file (`.env`) to store the values of your Alpaca API key and Alpaca secret key.\n",
    "\n",
    "2. Set the variables for the Alpaca API and secret keys. Using the Alpaca SDK, create the Alpaca `tradeapi.REST` object. In this object, include the parameters for the Alpaca API key, the secret key, and the version number.\n",
    "\n",
    "3. Set the following parameters for the Alpaca API call:\n",
    "\n",
    "    - `tickers`: Use the tickers for the member’s stock and bond holdings.\n",
    "\n",
    "    - `timeframe`: Use a time frame of one day.\n",
    "\n",
    "    - `start_date` and `end_date`: Use the same date for these parameters, and format them with the date of the previous weekday (or `2020-08-07`). This is because you want the one closing price for the most-recent trading day.\n",
    "\n",
    "4. Get the current closing prices for `SPY` and `AGG` by using the Alpaca `get_barset` function. Format the response as a Pandas DataFrame by including the `df` property at the end of the `get_barset` function.\n",
    "\n",
    "5. Navigating the Alpaca response DataFrame, select the `SPY` and `AGG` closing prices, and store them as variables.\n",
    "\n",
    "6. Calculate the value, in US dollars, of the current amount of shares in each of the stock and bond portions of the portfolio, and print the results.\n"
   ]
  },
  {
   "cell_type": "markdown",
   "metadata": {},
   "source": [
    "#### Review the total number of shares held in both (SPY) and (AGG)."
   ]
  },
  {
   "cell_type": "code",
   "execution_count": 13,
   "metadata": {},
   "outputs": [],
   "source": [
    "# Current amount of shares held in both the stock (SPY) and bond (AGG) portion of the portfolio.\n",
    "spy_shares = 110\n",
    "agg_shares = 200\n"
   ]
  },
  {
   "cell_type": "markdown",
   "metadata": {},
   "source": [
    "#### Step 1: In the `Starter_Code` folder, create an environment file (`.env`) to store the values of your Alpaca API key and Alpaca secret key."
   ]
  },
  {
   "cell_type": "markdown",
   "metadata": {},
   "source": [
    "#### Step 2: Set the variables for the Alpaca API and secret keys. Using the Alpaca SDK, create the Alpaca `tradeapi.REST` object. In this object, include the parameters for the Alpaca API key, the secret key, and the version number."
   ]
  },
  {
   "cell_type": "code",
   "execution_count": 14,
   "metadata": {},
   "outputs": [],
   "source": [
    "# Set the variables for the Alpaca API and secret keys\n",
    "alpaca_api_key = os.getenv('ALPACA_API_KEY_ENV')\n",
    "alpaca_secret_key = os.getenv('ALPACA_SECRET_KEY_ENV')\n",
    "\n",
    "# Create the Alpaca tradeapi.REST object\n",
    "alpaca = tradeapi.REST(\n",
    "    alpaca_api_key,\n",
    "    alpaca_secret_key,\n",
    "    api_version=\"v2\"\n",
    ")\n"
   ]
  },
  {
   "cell_type": "markdown",
   "metadata": {},
   "source": [
    "#### Step 3: Set the following parameters for the Alpaca API call:\n",
    "\n",
    "- `tickers`: Use the tickers for the member’s stock and bond holdings.\n",
    "\n",
    "- `timeframe`: Use a time frame of one day.\n",
    "\n",
    "- `start_date` and `end_date`: Use the same date for these parameters, and format them with the date of the previous weekday (or `2020-08-07`). This is because you want the one closing price for the most-recent trading day.\n"
   ]
  },
  {
   "cell_type": "code",
   "execution_count": 15,
   "metadata": {},
   "outputs": [],
   "source": [
    "# Set the tickers for both the bond and stock portion of the portfolio\n",
    "tickers = ['SPY', 'AGG']\n",
    "\n",
    "# Set timeframe to 1D \n",
    "timeframe = '1D'\n",
    "\n",
    "# Format current date as ISO format\n",
    "# Set both the start and end date at the date of your prior weekday \n",
    "# This will give you the closing price of the previous trading day\n",
    "# Alternatively you can use a start and end date of 2020-08-07\n",
    "start_date = pd.Timestamp('2022-01-28', tz='America/New_York').isoformat()\n",
    "end_date = pd.Timestamp('2022-01-28', tz='America/New_York').isoformat()\n"
   ]
  },
  {
   "cell_type": "markdown",
   "metadata": {},
   "source": [
    "#### Step 4: Get the current closing prices for `SPY` and `AGG` by using the Alpaca `get_barset` function. Format the response as a Pandas DataFrame by including the `df` property at the end of the `get_barset` function."
   ]
  },
  {
   "cell_type": "code",
   "execution_count": 16,
   "metadata": {},
   "outputs": [
    {
     "name": "stderr",
     "output_type": "stream",
     "text": [
      "C:\\Users\\dlpst\\anaconda3\\envs\\dev\\envs\\dev\\lib\\site-packages\\ipykernel_launcher.py:8: DeprecatedWarning: get_barset is deprecated as of v1.0.0. Use get_bars instead\n",
      "  \n"
     ]
    },
    {
     "data": {
      "text/html": [
       "<div>\n",
       "<style scoped>\n",
       "    .dataframe tbody tr th:only-of-type {\n",
       "        vertical-align: middle;\n",
       "    }\n",
       "\n",
       "    .dataframe tbody tr th {\n",
       "        vertical-align: top;\n",
       "    }\n",
       "\n",
       "    .dataframe thead tr th {\n",
       "        text-align: left;\n",
       "    }\n",
       "\n",
       "    .dataframe thead tr:last-of-type th {\n",
       "        text-align: right;\n",
       "    }\n",
       "</style>\n",
       "<table border=\"1\" class=\"dataframe\">\n",
       "  <thead>\n",
       "    <tr>\n",
       "      <th></th>\n",
       "      <th colspan=\"5\" halign=\"left\">AGG</th>\n",
       "      <th colspan=\"5\" halign=\"left\">SPY</th>\n",
       "    </tr>\n",
       "    <tr>\n",
       "      <th></th>\n",
       "      <th>open</th>\n",
       "      <th>high</th>\n",
       "      <th>low</th>\n",
       "      <th>close</th>\n",
       "      <th>volume</th>\n",
       "      <th>open</th>\n",
       "      <th>high</th>\n",
       "      <th>low</th>\n",
       "      <th>close</th>\n",
       "      <th>volume</th>\n",
       "    </tr>\n",
       "    <tr>\n",
       "      <th>time</th>\n",
       "      <th></th>\n",
       "      <th></th>\n",
       "      <th></th>\n",
       "      <th></th>\n",
       "      <th></th>\n",
       "      <th></th>\n",
       "      <th></th>\n",
       "      <th></th>\n",
       "      <th></th>\n",
       "      <th></th>\n",
       "    </tr>\n",
       "  </thead>\n",
       "  <tbody>\n",
       "    <tr>\n",
       "      <th>2022-01-28 00:00:00-05:00</th>\n",
       "      <td>111.46</td>\n",
       "      <td>111.86</td>\n",
       "      <td>111.44</td>\n",
       "      <td>111.81</td>\n",
       "      <td>10400422</td>\n",
       "      <td>432.7</td>\n",
       "      <td>442</td>\n",
       "      <td>427.82</td>\n",
       "      <td>441.92</td>\n",
       "      <td>142062305</td>\n",
       "    </tr>\n",
       "  </tbody>\n",
       "</table>\n",
       "</div>"
      ],
      "text/plain": [
       "                              AGG                                      SPY  \\\n",
       "                             open    high     low   close    volume   open   \n",
       "time                                                                         \n",
       "2022-01-28 00:00:00-05:00  111.46  111.86  111.44  111.81  10400422  432.7   \n",
       "\n",
       "                                                           \n",
       "                          high     low   close     volume  \n",
       "time                                                       \n",
       "2022-01-28 00:00:00-05:00  442  427.82  441.92  142062305  "
      ]
     },
     "execution_count": 16,
     "metadata": {},
     "output_type": "execute_result"
    }
   ],
   "source": [
    "# Use the Alpaca get_barset function to get current closing prices the portfolio\n",
    "# Be sure to set the `df` property after the function to format the response object as a DataFrame\n",
    "stock_portfolio_df = alpaca.get_barset(\n",
    "    tickers,\n",
    "    timeframe,\n",
    "    start = start_date,\n",
    "    end = end_date,\n",
    "    limit = 1000\n",
    ").df\n",
    "\n",
    "# Review the first 5 rows of the Alpaca DataFrame\n",
    "stock_portfolio_df.head()\n"
   ]
  },
  {
   "cell_type": "markdown",
   "metadata": {},
   "source": [
    "#### Step 5: Navigating the Alpaca response DataFrame, select the `SPY` and `AGG` closing prices, and store them as variables."
   ]
  },
  {
   "cell_type": "code",
   "execution_count": 17,
   "metadata": {},
   "outputs": [
    {
     "name": "stdout",
     "output_type": "stream",
     "text": [
      "111.81\n",
      "-----\n"
     ]
    }
   ],
   "source": [
    "# Access the closing price for AGG from the Alpaca DataFrame\n",
    "# Converting the value to a floating point number\n",
    "agg_close_price = stock_portfolio_df['AGG']['close']['2022-01-28 00:00:00-05:00']\n",
    "\n",
    "# Print the AGG closing price\n",
    "print(agg_close_price)\n",
    "print('-----')"
   ]
  },
  {
   "cell_type": "code",
   "execution_count": 18,
   "metadata": {},
   "outputs": [
    {
     "name": "stdout",
     "output_type": "stream",
     "text": [
      "441.92\n",
      "-----\n"
     ]
    }
   ],
   "source": [
    "# Access the closing price for SPY from the Alpaca DataFrame\n",
    "# Converting the value to a floating point number\n",
    "spy_close_price = stock_portfolio_df['SPY']['close']['2022-01-28 00:00:00-05:00']\n",
    "\n",
    "# Print the SPY closing price\n",
    "print(spy_close_price)\n",
    "print('-----')"
   ]
  },
  {
   "cell_type": "markdown",
   "metadata": {},
   "source": [
    "#### Step 6: Calculate the value, in US dollars, of the current amount of shares in each of the stock and bond portions of the portfolio, and print the results."
   ]
  },
  {
   "cell_type": "code",
   "execution_count": 19,
   "metadata": {},
   "outputs": [
    {
     "name": "stdout",
     "output_type": "stream",
     "text": [
      "The current value of the bond portfolio is $22362.00.\n",
      "-----\n"
     ]
    }
   ],
   "source": [
    "# Calculate the current value of the bond portion of the portfolio\n",
    "agg_value = agg_close_price*agg_shares\n",
    "\n",
    "# Print the current value of the bond portfolio\n",
    "print(f\"The current value of the bond portfolio is ${agg_value:.2f}.\")\n",
    "print('-----')"
   ]
  },
  {
   "cell_type": "code",
   "execution_count": 20,
   "metadata": {},
   "outputs": [
    {
     "name": "stdout",
     "output_type": "stream",
     "text": [
      "The current value of the stock portfolio is $48611.20.\n",
      "-----\n"
     ]
    }
   ],
   "source": [
    "# Calculate the current value of the stock portion of the portfolio\n",
    "spy_value = spy_close_price*spy_shares\n",
    "\n",
    "# Print the current value of the stock portfolio\n",
    "print(f\"The current value of the stock portfolio is ${spy_value:.2f}.\")\n",
    "print('-----')"
   ]
  },
  {
   "cell_type": "code",
   "execution_count": 21,
   "metadata": {},
   "outputs": [
    {
     "name": "stdout",
     "output_type": "stream",
     "text": [
      "The current balance of the stock and bond portion of the portfolio is $70973.20.\n",
      "-----\n"
     ]
    }
   ],
   "source": [
    "# Calculate the total value of the stock and bond portion of the portfolio\n",
    "total_stocks_bonds = spy_value+agg_value\n",
    "\n",
    "# Print the current balance of the stock and bond portion of the portfolio\n",
    "print(f\"The current balance of the stock and bond portion of the portfolio is ${total_stocks_bonds:.2f}.\")\n",
    "print('-----')"
   ]
  },
  {
   "cell_type": "code",
   "execution_count": 22,
   "metadata": {},
   "outputs": [
    {
     "name": "stdout",
     "output_type": "stream",
     "text": [
      "The total value of this member's entire savings portfolio is $131211.24.\n",
      "-----\n"
     ]
    }
   ],
   "source": [
    "# Calculate the total value of the member's entire savings portfolio\n",
    "# Add the value of the cryptocurrency walled to the value of the total stocks and bonds\n",
    "total_portfolio = total_stocks_bonds+total_crypto_wallet\n",
    "\n",
    "# Print current cryptocurrency wallet balance\n",
    "print(f\"The total value of this member's entire savings portfolio is ${total_portfolio:.2f}.\")\n",
    "print('-----')"
   ]
  },
  {
   "cell_type": "markdown",
   "metadata": {},
   "source": [
    "### Evaluate the Emergency Fund\n",
    "\n",
    "In this section, you’ll use the valuations for the cryptocurrency wallet and for the stock and bond portions of the portfolio to determine if the credit union member has enough savings to build an emergency fund into their financial plan. To do this, complete the following steps:\n",
    "\n",
    "1. Create a Python list named `savings_data` that has two elements. The first element contains the total value of the cryptocurrency wallet. The second element contains the total value of the stock and bond portions of the portfolio.\n",
    "\n",
    "2. Use the `savings_data` list to create a Pandas DataFrame named `savings_df`, and then display this DataFrame. The function to create the DataFrame should take the following three parameters:\n",
    "\n",
    "    - `savings_data`: Use the list that you just created.\n",
    "\n",
    "    - `columns`: Set this parameter equal to a Python list with a single value called `amount`.\n",
    "\n",
    "    - `index`: Set this parameter equal to a Python list with the values of `crypto` and `stock/bond`.\n",
    "\n",
    "3. Use the `savings_df` DataFrame to plot a pie chart that visualizes the composition of the member’s portfolio. The y-axis of the pie chart uses `amount`. Be sure to add a title.\n",
    "\n",
    "4. Using Python, determine if the current portfolio has enough to create an emergency fund as part of the member’s financial plan. Ideally, an emergency fund should equal to three times the member’s monthly income. To do this, implement the following steps:\n",
    "\n",
    "    1. Create a variable named `emergency_fund_value`, and set it equal to three times the value of the member’s `monthly_income` of $12000. (You set this earlier in Part 1).\n",
    "\n",
    "    2. Create a series of three if statements to determine if the member’s total portfolio is large enough to fund the emergency portfolio:\n",
    "\n",
    "        1. If the total portfolio value is greater than the emergency fund value, display a message congratulating the member for having enough money in this fund.\n",
    "\n",
    "        2. Else if the total portfolio value is equal to the emergency fund value, display a message congratulating the member on reaching this important financial goal.\n",
    "\n",
    "        3. Else the total portfolio is less than the emergency fund value, so display a message showing how many dollars away the member is from reaching the goal. (Subtract the total portfolio value from the emergency fund value.)\n"
   ]
  },
  {
   "cell_type": "markdown",
   "metadata": {},
   "source": [
    "#### Step 1: Create a Python list named `savings_data` that has two elements. The first element contains the total value of the cryptocurrency wallet. The second element contains the total value of the stock and bond portions of the portfolio."
   ]
  },
  {
   "cell_type": "code",
   "execution_count": 23,
   "metadata": {},
   "outputs": [
    {
     "name": "stdout",
     "output_type": "stream",
     "text": [
      "[60238.036, 70973.20000000001]\n",
      "-----\n"
     ]
    }
   ],
   "source": [
    "# Consolidate financial assets data into a Python list\n",
    "savings_data = [total_crypto_wallet, total_stocks_bonds]\n",
    "\n",
    "# Review the Python list savings_data\n",
    "print(savings_data)\n",
    "print('-----')"
   ]
  },
  {
   "cell_type": "markdown",
   "metadata": {},
   "source": [
    "#### Step 2: Use the `savings_data` list to create a Pandas DataFrame named `savings_df`, and then display this DataFrame. The function to create the DataFrame should take the following three parameters:\n",
    "\n",
    "- `savings_data`: Use the list that you just created.\n",
    "\n",
    "- `columns`: Set this parameter equal to a Python list with a single value called `amount`.\n",
    "\n",
    "- `index`: Set this parameter equal to a Python list with the values of `crypto` and `stock/bond`.\n"
   ]
  },
  {
   "cell_type": "code",
   "execution_count": 24,
   "metadata": {},
   "outputs": [
    {
     "name": "stdout",
     "output_type": "stream",
     "text": [
      "                 Amount\n",
      "Crypto        60238.036\n",
      "Stocks/Bonds  70973.200\n"
     ]
    }
   ],
   "source": [
    "# Create a Pandas DataFrame called savings_df \n",
    "columns = ['Amount']\n",
    "index = ['Crypto', 'Stocks/Bonds']\n",
    "savings_df = pd.DataFrame(savings_data, columns=columns, index=index)\n",
    "\n",
    "# Display the savings_df DataFrame\n",
    "print(savings_df)\n"
   ]
  },
  {
   "cell_type": "markdown",
   "metadata": {},
   "source": [
    "#### Step 3: Use the `savings_df` DataFrame to plot a pie chart that visualizes the composition of the member’s portfolio. The y-axis of the pie chart uses `amount`. Be sure to add a title."
   ]
  },
  {
   "cell_type": "code",
   "execution_count": 50,
   "metadata": {},
   "outputs": [
    {
     "data": {
      "text/plain": [
       "<AxesSubplot:title={'center':'Portfolio Composition'}, ylabel='Amount'>"
      ]
     },
     "execution_count": 50,
     "metadata": {},
     "output_type": "execute_result"
    },
    {
     "data": {
      "image/png": "[encoded data removed]",
      "text/plain": [
       "<Figure size 432x288 with 1 Axes>"
      ]
     },
     "metadata": {},
     "output_type": "display_data"
    }
   ],
   "source": [
    "# Plot the total value of the member's portfolio (crypto and stock/bond) in a pie chart\n",
    "savings_df.plot.pie(y='Amount', title='Portfolio Composition')\n"
   ]
  },
  {
   "cell_type": "markdown",
   "metadata": {},
   "source": [
    "#### Step 4: Using Python, determine if the current portfolio has enough to create an emergency fund as part of the member’s financial plan. Ideally, an emergency fund should equal to three times the member’s monthly income. To do this, implement the following steps:\n",
    "\n",
    "Step 1. Create a variable named `emergency_fund_value`, and set it equal to three times the value of the member’s `monthly_income` of 12000. (You set this earlier in Part 1).\n",
    "\n",
    "Step 2. Create a series of three if statements to determine if the member’s total portfolio is large enough to fund the emergency portfolio:\n",
    "\n",
    "* If the total portfolio value is greater than the emergency fund value, display a message congratulating the member for having enough money in this fund.\n",
    "\n",
    "* Else if the total portfolio value is equal to the emergency fund value, display a message congratulating the member on reaching this important financial goal.\n",
    "\n",
    "* Else the total portfolio is less than the emergency fund value, so display a message showing how many dollars away the member is from reaching the goal. (Subtract the total portfolio value from the emergency fund value.)\n"
   ]
  },
  {
   "cell_type": "markdown",
   "metadata": {},
   "source": [
    "##### Step 4-1: Create a variable named `emergency_fund_value`, and set it equal to three times the value of the member’s `monthly_income` of 12000. (You set this earlier in Part 1)."
   ]
  },
  {
   "cell_type": "code",
   "execution_count": 51,
   "metadata": {},
   "outputs": [
    {
     "data": {
      "text/plain": [
       "36000"
      ]
     },
     "execution_count": 51,
     "metadata": {},
     "output_type": "execute_result"
    }
   ],
   "source": [
    "# Create a variable named emergency_fund_value\n",
    "emergency_fund_value = monthly_income*3"
   ]
  },
  {
   "cell_type": "markdown",
   "metadata": {},
   "source": [
    "##### Step 4-2: Create a series of three if statements to determine if the member’s total portfolio is large enough to fund the emergency portfolio:\n",
    "\n",
    "* If the total portfolio value is greater than the emergency fund value, display a message congratulating the member for having enough money in this fund.\n",
    "\n",
    "* Else if the total portfolio value is equal to the emergency fund value, display a message congratulating the member on reaching this important financial goal.\n",
    "\n",
    "* Else the total portfolio is less than the emergency fund value, so display a message showing how many dollars away the member is from reaching the goal. (Subtract the total portfolio value from the emergency fund value.)"
   ]
  },
  {
   "cell_type": "code",
   "execution_count": 59,
   "metadata": {},
   "outputs": [
    {
     "name": "stdout",
     "output_type": "stream",
     "text": [
      "Congratulations! You have enough money in this fund for emergency purposes.\n",
      "-----\n"
     ]
    }
   ],
   "source": [
    "# Evaluate the possibility of creating an emergency fund with 3 conditions:\n",
    "if total_portfolio > emergency_fund_value:\n",
    "    print(f\"Congratulations! You have enough money in this fund for emergency purposes.\")\n",
    "    print('-----')\n",
    "elif total_portfolio == emergency_fund_value:\n",
    "    print(f\"Congratulations on acheving this important financial goal of saving enough money for emergency purposes!\")\n",
    "    print('-----')\n",
    "else:\n",
    "    print(f\"You currently need an additional ${(emergency_fund_value - total_portfolio):.2f} in your portfolio to have a healthy emergency savings fund.\")\n",
    "    print('-----')\n"
   ]
  },
  {
   "cell_type": "markdown",
   "metadata": {},
   "source": [
    "## Part 2: Create a Financial Planner for Retirement"
   ]
  },
  {
   "cell_type": "markdown",
   "metadata": {},
   "source": [
    "### Create the Monte Carlo Simulation\n",
    "\n",
    "In this section, you’ll use the MCForecastTools library to create a Monte Carlo simulation for the member’s savings portfolio. To do this, complete the following steps:\n",
    "\n",
    "1. Make an API call via the Alpaca SDK to get 3 years of historical closing prices for a traditional 60/40 portfolio split: 60% stocks (SPY) and 40% bonds (AGG).\n",
    "\n",
    "2. Run a Monte Carlo simulation of 500 samples and 30 years for the 60/40 portfolio, and then plot the results.The following image shows the overlay line plot resulting from a simulation with these characteristics. However, because a random number generator is used to run each live Monte Carlo simulation, your image will differ slightly from this exact image:\n",
    "\n",
    "![A screenshot depicts the resulting plot.](Images/5-4-monte-carlo-line-plot.png)\n",
    "\n",
    "3. Plot the probability distribution of the Monte Carlo simulation. Plot the probability distribution of the Monte Carlo simulation. The following image shows the histogram plot resulting from a simulation with these characteristics. However, because a random number generator is used to run each live Monte Carlo simulation, your image will differ slightly from this exact image:\n",
    "\n",
    "![A screenshot depicts the histogram plot.](Images/5-4-monte-carlo-histogram.png)\n",
    "\n",
    "4. Generate the summary statistics for the Monte Carlo simulation.\n",
    "\n"
   ]
  },
  {
   "cell_type": "markdown",
   "metadata": {},
   "source": [
    "#### Step 1: Make an API call via the Alpaca SDK to get 3 years of historical closing prices for a traditional 60/40 portfolio split: 60% stocks (SPY) and 40% bonds (AGG)."
   ]
  },
  {
   "cell_type": "code",
   "execution_count": 62,
   "metadata": {},
   "outputs": [],
   "source": [
    "# Set start and end dates of 3 years back from your current date\n",
    "# Alternatively, you can use an end date of 2020-08-07 and work 3 years back from that date \n",
    "start_date = pd.Timestamp('2019-01-31', tz='America/New_York').isoformat()\n",
    "end_date = pd.Timestamp('2022-01-31', tz='America/New_York').isoformat()\n",
    "\n",
    "# Set number of rows to 1000 to retrieve the maximum amount of rows\n",
    "limit_rows = 1000"
   ]
  },
  {
   "cell_type": "code",
   "execution_count": 65,
   "metadata": {},
   "outputs": [
    {
     "name": "stdout",
     "output_type": "stream",
     "text": [
      "                              AGG                                         \\\n",
      "                             open    high      low     close      volume   \n",
      "time                                                                       \n",
      "2019-01-31 00:00:00-05:00  107.30  107.53  107.290  107.4600  11394113.0   \n",
      "2019-02-01 00:00:00-05:00  107.09  107.15  106.880  106.9600   5325410.0   \n",
      "2019-02-04 00:00:00-05:00  106.83  106.90  106.770  106.8950   9790488.0   \n",
      "2019-02-05 00:00:00-05:00  106.95  107.14  106.950  107.0900   4918385.0   \n",
      "2019-02-06 00:00:00-05:00  107.20  107.22  106.985  107.0441   6022187.0   \n",
      "\n",
      "                              SPY                                      \n",
      "                             open    high     low     close    volume  \n",
      "time                                                                   \n",
      "2019-01-31 00:00:00-05:00  267.51  270.47  267.27  270.2325  73699733  \n",
      "2019-02-01 00:00:00-05:00  270.15  271.20  269.18  270.0700  68194167  \n",
      "2019-02-04 00:00:00-05:00  270.11  271.80  269.36  271.7800  46985797  \n",
      "2019-02-05 00:00:00-05:00  272.44  273.44  271.88  273.1300  61540042  \n",
      "2019-02-06 00:00:00-05:00  272.79  273.34  271.92  272.7000  43446324  \n",
      "-----\n"
     ]
    },
    {
     "name": "stderr",
     "output_type": "stream",
     "text": [
      "C:\\Users\\dlpst\\anaconda3\\envs\\dev\\envs\\dev\\lib\\site-packages\\ipykernel_launcher.py:10: DeprecatedWarning: get_barset is deprecated as of v1.0.0. Use get_bars instead\n",
      "  # Remove the CWD from sys.path while we load stuff.\n"
     ]
    }
   ],
   "source": [
    "# Use the Alpaca get_barset function to make the API call to get the 3 years worth of pricing data\n",
    "# The tickers and timeframe parameters should have been set in Part 1 of this activity \n",
    "# The start and end dates should be updated with the information set above\n",
    "# Remember to add the df property to the end of the call so the response is returned as a DataFrame\n",
    "stock_portfolio_df = alpaca.get_barset(\n",
    "    tickers,\n",
    "    timeframe,\n",
    "    start = start_date,\n",
    "    end = end_date,\n",
    "    limit = limit_rows\n",
    ").df\n",
    "\n",
    "\n",
    "# Display both the first and last five rows of the DataFrame\n",
    "print(stock_portfolio_df.head())\n",
    "stock_portfolio_df.tail()\n",
    "print('-----')"
   ]
  },
  {
   "cell_type": "markdown",
   "metadata": {},
   "source": [
    "#### Step 2: Run a Monte Carlo simulation of 500 samples and 30 years for the 60/40 portfolio, and then plot the results."
   ]
  },
  {
   "cell_type": "code",
   "execution_count": 69,
   "metadata": {},
   "outputs": [
    {
     "name": "stdout",
     "output_type": "stream",
     "text": [
      "The following DataFrame is a preview of the data used for the MCSimulation.\n"
     ]
    },
    {
     "data": {
      "text/html": [
       "<div>\n",
       "<style scoped>\n",
       "    .dataframe tbody tr th:only-of-type {\n",
       "        vertical-align: middle;\n",
       "    }\n",
       "\n",
       "    .dataframe tbody tr th {\n",
       "        vertical-align: top;\n",
       "    }\n",
       "\n",
       "    .dataframe thead tr th {\n",
       "        text-align: left;\n",
       "    }\n",
       "\n",
       "    .dataframe thead tr:last-of-type th {\n",
       "        text-align: right;\n",
       "    }\n",
       "</style>\n",
       "<table border=\"1\" class=\"dataframe\">\n",
       "  <thead>\n",
       "    <tr>\n",
       "      <th></th>\n",
       "      <th colspan=\"6\" halign=\"left\">AGG</th>\n",
       "      <th colspan=\"6\" halign=\"left\">SPY</th>\n",
       "    </tr>\n",
       "    <tr>\n",
       "      <th></th>\n",
       "      <th>open</th>\n",
       "      <th>high</th>\n",
       "      <th>low</th>\n",
       "      <th>close</th>\n",
       "      <th>volume</th>\n",
       "      <th>daily_return</th>\n",
       "      <th>open</th>\n",
       "      <th>high</th>\n",
       "      <th>low</th>\n",
       "      <th>close</th>\n",
       "      <th>volume</th>\n",
       "      <th>daily_return</th>\n",
       "    </tr>\n",
       "    <tr>\n",
       "      <th>time</th>\n",
       "      <th></th>\n",
       "      <th></th>\n",
       "      <th></th>\n",
       "      <th></th>\n",
       "      <th></th>\n",
       "      <th></th>\n",
       "      <th></th>\n",
       "      <th></th>\n",
       "      <th></th>\n",
       "      <th></th>\n",
       "      <th></th>\n",
       "      <th></th>\n",
       "    </tr>\n",
       "  </thead>\n",
       "  <tbody>\n",
       "    <tr>\n",
       "      <th>2019-01-31 00:00:00-05:00</th>\n",
       "      <td>107.30</td>\n",
       "      <td>107.53</td>\n",
       "      <td>107.290</td>\n",
       "      <td>107.4600</td>\n",
       "      <td>11394113.0</td>\n",
       "      <td>NaN</td>\n",
       "      <td>267.51</td>\n",
       "      <td>270.47</td>\n",
       "      <td>267.27</td>\n",
       "      <td>270.2325</td>\n",
       "      <td>73699733</td>\n",
       "      <td>NaN</td>\n",
       "    </tr>\n",
       "    <tr>\n",
       "      <th>2019-02-01 00:00:00-05:00</th>\n",
       "      <td>107.09</td>\n",
       "      <td>107.15</td>\n",
       "      <td>106.880</td>\n",
       "      <td>106.9600</td>\n",
       "      <td>5325410.0</td>\n",
       "      <td>-0.004653</td>\n",
       "      <td>270.15</td>\n",
       "      <td>271.20</td>\n",
       "      <td>269.18</td>\n",
       "      <td>270.0700</td>\n",
       "      <td>68194167</td>\n",
       "      <td>-0.000601</td>\n",
       "    </tr>\n",
       "    <tr>\n",
       "      <th>2019-02-04 00:00:00-05:00</th>\n",
       "      <td>106.83</td>\n",
       "      <td>106.90</td>\n",
       "      <td>106.770</td>\n",
       "      <td>106.8950</td>\n",
       "      <td>9790488.0</td>\n",
       "      <td>-0.000608</td>\n",
       "      <td>270.11</td>\n",
       "      <td>271.80</td>\n",
       "      <td>269.36</td>\n",
       "      <td>271.7800</td>\n",
       "      <td>46985797</td>\n",
       "      <td>0.006332</td>\n",
       "    </tr>\n",
       "    <tr>\n",
       "      <th>2019-02-05 00:00:00-05:00</th>\n",
       "      <td>106.95</td>\n",
       "      <td>107.14</td>\n",
       "      <td>106.950</td>\n",
       "      <td>107.0900</td>\n",
       "      <td>4918385.0</td>\n",
       "      <td>0.001824</td>\n",
       "      <td>272.44</td>\n",
       "      <td>273.44</td>\n",
       "      <td>271.88</td>\n",
       "      <td>273.1300</td>\n",
       "      <td>61540042</td>\n",
       "      <td>0.004967</td>\n",
       "    </tr>\n",
       "    <tr>\n",
       "      <th>2019-02-06 00:00:00-05:00</th>\n",
       "      <td>107.20</td>\n",
       "      <td>107.22</td>\n",
       "      <td>106.985</td>\n",
       "      <td>107.0441</td>\n",
       "      <td>6022187.0</td>\n",
       "      <td>-0.000429</td>\n",
       "      <td>272.79</td>\n",
       "      <td>273.34</td>\n",
       "      <td>271.92</td>\n",
       "      <td>272.7000</td>\n",
       "      <td>43446324</td>\n",
       "      <td>-0.001574</td>\n",
       "    </tr>\n",
       "  </tbody>\n",
       "</table>\n",
       "</div>"
      ],
      "text/plain": [
       "                              AGG                                         \\\n",
       "                             open    high      low     close      volume   \n",
       "time                                                                       \n",
       "2019-01-31 00:00:00-05:00  107.30  107.53  107.290  107.4600  11394113.0   \n",
       "2019-02-01 00:00:00-05:00  107.09  107.15  106.880  106.9600   5325410.0   \n",
       "2019-02-04 00:00:00-05:00  106.83  106.90  106.770  106.8950   9790488.0   \n",
       "2019-02-05 00:00:00-05:00  106.95  107.14  106.950  107.0900   4918385.0   \n",
       "2019-02-06 00:00:00-05:00  107.20  107.22  106.985  107.0441   6022187.0   \n",
       "\n",
       "                                           SPY                            \\\n",
       "                          daily_return    open    high     low     close   \n",
       "time                                                                       \n",
       "2019-01-31 00:00:00-05:00          NaN  267.51  270.47  267.27  270.2325   \n",
       "2019-02-01 00:00:00-05:00    -0.004653  270.15  271.20  269.18  270.0700   \n",
       "2019-02-04 00:00:00-05:00    -0.000608  270.11  271.80  269.36  271.7800   \n",
       "2019-02-05 00:00:00-05:00     0.001824  272.44  273.44  271.88  273.1300   \n",
       "2019-02-06 00:00:00-05:00    -0.000429  272.79  273.34  271.92  272.7000   \n",
       "\n",
       "                                                  \n",
       "                             volume daily_return  \n",
       "time                                              \n",
       "2019-01-31 00:00:00-05:00  73699733          NaN  \n",
       "2019-02-01 00:00:00-05:00  68194167    -0.000601  \n",
       "2019-02-04 00:00:00-05:00  46985797     0.006332  \n",
       "2019-02-05 00:00:00-05:00  61540042     0.004967  \n",
       "2019-02-06 00:00:00-05:00  43446324    -0.001574  "
      ]
     },
     "execution_count": 69,
     "metadata": {},
     "output_type": "execute_result"
    }
   ],
   "source": [
    "# Configure the Monte Carlo simulation to forecast 30 years cumulative returns\n",
    "# The weights should be split 40% to AGG and 60% to SPY.\n",
    "# Run 500 samples.\n",
    "MC_30year = MCSimulation(\n",
    "    portfolio_data = stock_portfolio_df,\n",
    "    weights = [0.40,0.60],\n",
    "    num_simulation = 500,\n",
    "    num_trading_days = 252*30\n",
    ")\n",
    "\n",
    "# Review the simulation input data\n",
    "print('The following DataFrame is a preview of the data used for the MCSimulation.')\n",
    "MC_30year.portfolio_data.head()"
   ]
  },
  {
   "cell_type": "code",
   "execution_count": 70,
   "metadata": {},
   "outputs": [
    {
     "name": "stdout",
     "output_type": "stream",
     "text": [
      "Running Monte Carlo simulation number 0.\n",
      "Running Monte Carlo simulation number 10.\n",
      "Running Monte Carlo simulation number 20.\n",
      "Running Monte Carlo simulation number 30.\n",
      "Running Monte Carlo simulation number 40.\n",
      "Running Monte Carlo simulation number 50.\n",
      "Running Monte Carlo simulation number 60.\n",
      "Running Monte Carlo simulation number 70.\n",
      "Running Monte Carlo simulation number 80.\n",
      "Running Monte Carlo simulation number 90.\n",
      "Running Monte Carlo simulation number 100.\n"
     ]
    },
    {
     "name": "stderr",
     "output_type": "stream",
     "text": [
      "C:\\Users\\dlpst\\OneDrive\\Documents\\UC_Berkeley_Blockchain_Bootcamp\\GitHub\\05_DLP_Financial_Planning_Tools\\MCForecastTools.py:117: PerformanceWarning: DataFrame is highly fragmented.  This is usually the result of calling `frame.insert` many times, which has poor performance.  Consider joining all columns at once using pd.concat(axis=1) instead.  To get a de-fragmented frame, use `newframe = frame.copy()`\n",
      "  portfolio_cumulative_returns[n] = (1 + sim_df.fillna(0)).cumprod()\n"
     ]
    },
    {
     "name": "stdout",
     "output_type": "stream",
     "text": [
      "Running Monte Carlo simulation number 110.\n",
      "Running Monte Carlo simulation number 120.\n",
      "Running Monte Carlo simulation number 130.\n",
      "Running Monte Carlo simulation number 140.\n",
      "Running Monte Carlo simulation number 150.\n",
      "Running Monte Carlo simulation number 160.\n",
      "Running Monte Carlo simulation number 170.\n",
      "Running Monte Carlo simulation number 180.\n",
      "Running Monte Carlo simulation number 190.\n",
      "Running Monte Carlo simulation number 200.\n",
      "Running Monte Carlo simulation number 210.\n",
      "Running Monte Carlo simulation number 220.\n",
      "Running Monte Carlo simulation number 230.\n",
      "Running Monte Carlo simulation number 240.\n",
      "Running Monte Carlo simulation number 250.\n",
      "Running Monte Carlo simulation number 260.\n",
      "Running Monte Carlo simulation number 270.\n",
      "Running Monte Carlo simulation number 280.\n",
      "Running Monte Carlo simulation number 290.\n",
      "Running Monte Carlo simulation number 300.\n",
      "Running Monte Carlo simulation number 310.\n",
      "Running Monte Carlo simulation number 320.\n",
      "Running Monte Carlo simulation number 330.\n",
      "Running Monte Carlo simulation number 340.\n",
      "Running Monte Carlo simulation number 350.\n",
      "Running Monte Carlo simulation number 360.\n",
      "Running Monte Carlo simulation number 370.\n",
      "Running Monte Carlo simulation number 380.\n",
      "Running Monte Carlo simulation number 390.\n",
      "Running Monte Carlo simulation number 400.\n",
      "Running Monte Carlo simulation number 410.\n",
      "Running Monte Carlo simulation number 420.\n",
      "Running Monte Carlo simulation number 430.\n",
      "Running Monte Carlo simulation number 440.\n",
      "Running Monte Carlo simulation number 450.\n",
      "Running Monte Carlo simulation number 460.\n",
      "Running Monte Carlo simulation number 470.\n",
      "Running Monte Carlo simulation number 480.\n",
      "Running Monte Carlo simulation number 490.\n"
     ]
    },
    {
     "data": {
      "text/html": [
       "<div>\n",
       "<style scoped>\n",
       "    .dataframe tbody tr th:only-of-type {\n",
       "        vertical-align: middle;\n",
       "    }\n",
       "\n",
       "    .dataframe tbody tr th {\n",
       "        vertical-align: top;\n",
       "    }\n",
       "\n",
       "    .dataframe thead th {\n",
       "        text-align: right;\n",
       "    }\n",
       "</style>\n",
       "<table border=\"1\" class=\"dataframe\">\n",
       "  <thead>\n",
       "    <tr style=\"text-align: right;\">\n",
       "      <th></th>\n",
       "      <th>0</th>\n",
       "      <th>1</th>\n",
       "      <th>2</th>\n",
       "      <th>3</th>\n",
       "      <th>4</th>\n",
       "      <th>5</th>\n",
       "      <th>6</th>\n",
       "      <th>7</th>\n",
       "      <th>8</th>\n",
       "      <th>9</th>\n",
       "      <th>...</th>\n",
       "      <th>490</th>\n",
       "      <th>491</th>\n",
       "      <th>492</th>\n",
       "      <th>493</th>\n",
       "      <th>494</th>\n",
       "      <th>495</th>\n",
       "      <th>496</th>\n",
       "      <th>497</th>\n",
       "      <th>498</th>\n",
       "      <th>499</th>\n",
       "    </tr>\n",
       "  </thead>\n",
       "  <tbody>\n",
       "    <tr>\n",
       "      <th>0</th>\n",
       "      <td>1.000000</td>\n",
       "      <td>1.000000</td>\n",
       "      <td>1.000000</td>\n",
       "      <td>1.000000</td>\n",
       "      <td>1.000000</td>\n",
       "      <td>1.000000</td>\n",
       "      <td>1.000000</td>\n",
       "      <td>1.000000</td>\n",
       "      <td>1.000000</td>\n",
       "      <td>1.000000</td>\n",
       "      <td>...</td>\n",
       "      <td>1.000000</td>\n",
       "      <td>1.000000</td>\n",
       "      <td>1.000000</td>\n",
       "      <td>1.000000</td>\n",
       "      <td>1.000000</td>\n",
       "      <td>1.000000</td>\n",
       "      <td>1.000000</td>\n",
       "      <td>1.000000</td>\n",
       "      <td>1.000000</td>\n",
       "      <td>1.000000</td>\n",
       "    </tr>\n",
       "    <tr>\n",
       "      <th>1</th>\n",
       "      <td>1.004601</td>\n",
       "      <td>0.988006</td>\n",
       "      <td>0.995343</td>\n",
       "      <td>1.001358</td>\n",
       "      <td>0.997075</td>\n",
       "      <td>0.990311</td>\n",
       "      <td>0.996929</td>\n",
       "      <td>1.000056</td>\n",
       "      <td>1.016232</td>\n",
       "      <td>0.993317</td>\n",
       "      <td>...</td>\n",
       "      <td>1.016294</td>\n",
       "      <td>0.991956</td>\n",
       "      <td>0.994539</td>\n",
       "      <td>0.995621</td>\n",
       "      <td>0.983175</td>\n",
       "      <td>0.998556</td>\n",
       "      <td>1.006606</td>\n",
       "      <td>1.013144</td>\n",
       "      <td>1.000721</td>\n",
       "      <td>1.015787</td>\n",
       "    </tr>\n",
       "    <tr>\n",
       "      <th>2</th>\n",
       "      <td>1.005366</td>\n",
       "      <td>0.990805</td>\n",
       "      <td>0.998794</td>\n",
       "      <td>1.008974</td>\n",
       "      <td>0.995951</td>\n",
       "      <td>1.006003</td>\n",
       "      <td>0.988669</td>\n",
       "      <td>0.981944</td>\n",
       "      <td>1.015469</td>\n",
       "      <td>0.981310</td>\n",
       "      <td>...</td>\n",
       "      <td>1.017267</td>\n",
       "      <td>0.998870</td>\n",
       "      <td>0.994531</td>\n",
       "      <td>1.000270</td>\n",
       "      <td>0.993371</td>\n",
       "      <td>1.006561</td>\n",
       "      <td>1.007561</td>\n",
       "      <td>1.034142</td>\n",
       "      <td>1.013372</td>\n",
       "      <td>1.017334</td>\n",
       "    </tr>\n",
       "    <tr>\n",
       "      <th>3</th>\n",
       "      <td>1.017641</td>\n",
       "      <td>0.987287</td>\n",
       "      <td>0.987895</td>\n",
       "      <td>1.012079</td>\n",
       "      <td>0.989605</td>\n",
       "      <td>0.998113</td>\n",
       "      <td>0.978793</td>\n",
       "      <td>0.983110</td>\n",
       "      <td>1.010860</td>\n",
       "      <td>0.984982</td>\n",
       "      <td>...</td>\n",
       "      <td>1.026722</td>\n",
       "      <td>0.994870</td>\n",
       "      <td>0.997048</td>\n",
       "      <td>1.006668</td>\n",
       "      <td>1.003348</td>\n",
       "      <td>0.999394</td>\n",
       "      <td>1.018792</td>\n",
       "      <td>1.046797</td>\n",
       "      <td>1.026483</td>\n",
       "      <td>1.042496</td>\n",
       "    </tr>\n",
       "    <tr>\n",
       "      <th>4</th>\n",
       "      <td>1.019126</td>\n",
       "      <td>0.982527</td>\n",
       "      <td>0.991403</td>\n",
       "      <td>1.017064</td>\n",
       "      <td>0.991682</td>\n",
       "      <td>1.001272</td>\n",
       "      <td>0.977041</td>\n",
       "      <td>0.989457</td>\n",
       "      <td>1.005569</td>\n",
       "      <td>0.982369</td>\n",
       "      <td>...</td>\n",
       "      <td>1.027201</td>\n",
       "      <td>1.007075</td>\n",
       "      <td>0.989221</td>\n",
       "      <td>1.006576</td>\n",
       "      <td>1.002907</td>\n",
       "      <td>0.998764</td>\n",
       "      <td>1.013019</td>\n",
       "      <td>1.037970</td>\n",
       "      <td>1.022932</td>\n",
       "      <td>1.045608</td>\n",
       "    </tr>\n",
       "    <tr>\n",
       "      <th>...</th>\n",
       "      <td>...</td>\n",
       "      <td>...</td>\n",
       "      <td>...</td>\n",
       "      <td>...</td>\n",
       "      <td>...</td>\n",
       "      <td>...</td>\n",
       "      <td>...</td>\n",
       "      <td>...</td>\n",
       "      <td>...</td>\n",
       "      <td>...</td>\n",
       "      <td>...</td>\n",
       "      <td>...</td>\n",
       "      <td>...</td>\n",
       "      <td>...</td>\n",
       "      <td>...</td>\n",
       "      <td>...</td>\n",
       "      <td>...</td>\n",
       "      <td>...</td>\n",
       "      <td>...</td>\n",
       "      <td>...</td>\n",
       "      <td>...</td>\n",
       "    </tr>\n",
       "    <tr>\n",
       "      <th>7556</th>\n",
       "      <td>10.076863</td>\n",
       "      <td>37.688032</td>\n",
       "      <td>84.468974</td>\n",
       "      <td>89.750520</td>\n",
       "      <td>15.562292</td>\n",
       "      <td>56.116450</td>\n",
       "      <td>13.103330</td>\n",
       "      <td>46.300864</td>\n",
       "      <td>20.029423</td>\n",
       "      <td>22.177696</td>\n",
       "      <td>...</td>\n",
       "      <td>95.868560</td>\n",
       "      <td>49.123217</td>\n",
       "      <td>18.422034</td>\n",
       "      <td>21.786689</td>\n",
       "      <td>53.678932</td>\n",
       "      <td>49.603746</td>\n",
       "      <td>59.874959</td>\n",
       "      <td>8.269080</td>\n",
       "      <td>21.961677</td>\n",
       "      <td>107.173687</td>\n",
       "    </tr>\n",
       "    <tr>\n",
       "      <th>7557</th>\n",
       "      <td>10.090330</td>\n",
       "      <td>37.833554</td>\n",
       "      <td>83.928838</td>\n",
       "      <td>89.167966</td>\n",
       "      <td>15.554429</td>\n",
       "      <td>55.977928</td>\n",
       "      <td>13.206107</td>\n",
       "      <td>46.740202</td>\n",
       "      <td>20.051278</td>\n",
       "      <td>22.056696</td>\n",
       "      <td>...</td>\n",
       "      <td>96.118837</td>\n",
       "      <td>49.557372</td>\n",
       "      <td>18.455579</td>\n",
       "      <td>21.656935</td>\n",
       "      <td>53.050947</td>\n",
       "      <td>49.394364</td>\n",
       "      <td>59.892929</td>\n",
       "      <td>8.393899</td>\n",
       "      <td>21.929748</td>\n",
       "      <td>108.985908</td>\n",
       "    </tr>\n",
       "    <tr>\n",
       "      <th>7558</th>\n",
       "      <td>10.333585</td>\n",
       "      <td>38.341927</td>\n",
       "      <td>83.807117</td>\n",
       "      <td>88.785936</td>\n",
       "      <td>15.738359</td>\n",
       "      <td>56.080495</td>\n",
       "      <td>13.105364</td>\n",
       "      <td>46.872486</td>\n",
       "      <td>19.900847</td>\n",
       "      <td>22.137087</td>\n",
       "      <td>...</td>\n",
       "      <td>96.983104</td>\n",
       "      <td>49.753776</td>\n",
       "      <td>18.392681</td>\n",
       "      <td>21.525976</td>\n",
       "      <td>53.001645</td>\n",
       "      <td>49.034513</td>\n",
       "      <td>58.598952</td>\n",
       "      <td>8.476946</td>\n",
       "      <td>22.093061</td>\n",
       "      <td>107.391647</td>\n",
       "    </tr>\n",
       "    <tr>\n",
       "      <th>7559</th>\n",
       "      <td>10.313673</td>\n",
       "      <td>38.266014</td>\n",
       "      <td>83.036681</td>\n",
       "      <td>88.965718</td>\n",
       "      <td>15.555567</td>\n",
       "      <td>57.158748</td>\n",
       "      <td>13.088999</td>\n",
       "      <td>47.384870</td>\n",
       "      <td>20.013736</td>\n",
       "      <td>22.013752</td>\n",
       "      <td>...</td>\n",
       "      <td>96.513655</td>\n",
       "      <td>49.918173</td>\n",
       "      <td>18.362486</td>\n",
       "      <td>21.501115</td>\n",
       "      <td>53.051763</td>\n",
       "      <td>48.702083</td>\n",
       "      <td>59.666966</td>\n",
       "      <td>8.449551</td>\n",
       "      <td>22.177961</td>\n",
       "      <td>107.702697</td>\n",
       "    </tr>\n",
       "    <tr>\n",
       "      <th>7560</th>\n",
       "      <td>10.329959</td>\n",
       "      <td>38.639982</td>\n",
       "      <td>83.205279</td>\n",
       "      <td>88.230048</td>\n",
       "      <td>15.655055</td>\n",
       "      <td>55.826465</td>\n",
       "      <td>13.138873</td>\n",
       "      <td>47.592525</td>\n",
       "      <td>20.035242</td>\n",
       "      <td>22.137095</td>\n",
       "      <td>...</td>\n",
       "      <td>98.942452</td>\n",
       "      <td>50.373227</td>\n",
       "      <td>18.374656</td>\n",
       "      <td>21.790731</td>\n",
       "      <td>53.498408</td>\n",
       "      <td>48.597994</td>\n",
       "      <td>59.595905</td>\n",
       "      <td>8.424847</td>\n",
       "      <td>22.155053</td>\n",
       "      <td>108.168570</td>\n",
       "    </tr>\n",
       "  </tbody>\n",
       "</table>\n",
       "<p>7561 rows × 500 columns</p>\n",
       "</div>"
      ],
      "text/plain": [
       "            0          1          2          3          4          5    \\\n",
       "0      1.000000   1.000000   1.000000   1.000000   1.000000   1.000000   \n",
       "1      1.004601   0.988006   0.995343   1.001358   0.997075   0.990311   \n",
       "2      1.005366   0.990805   0.998794   1.008974   0.995951   1.006003   \n",
       "3      1.017641   0.987287   0.987895   1.012079   0.989605   0.998113   \n",
       "4      1.019126   0.982527   0.991403   1.017064   0.991682   1.001272   \n",
       "...         ...        ...        ...        ...        ...        ...   \n",
       "7556  10.076863  37.688032  84.468974  89.750520  15.562292  56.116450   \n",
       "7557  10.090330  37.833554  83.928838  89.167966  15.554429  55.977928   \n",
       "7558  10.333585  38.341927  83.807117  88.785936  15.738359  56.080495   \n",
       "7559  10.313673  38.266014  83.036681  88.965718  15.555567  57.158748   \n",
       "7560  10.329959  38.639982  83.205279  88.230048  15.655055  55.826465   \n",
       "\n",
       "            6          7          8          9    ...        490        491  \\\n",
       "0      1.000000   1.000000   1.000000   1.000000  ...   1.000000   1.000000   \n",
       "1      0.996929   1.000056   1.016232   0.993317  ...   1.016294   0.991956   \n",
       "2      0.988669   0.981944   1.015469   0.981310  ...   1.017267   0.998870   \n",
       "3      0.978793   0.983110   1.010860   0.984982  ...   1.026722   0.994870   \n",
       "4      0.977041   0.989457   1.005569   0.982369  ...   1.027201   1.007075   \n",
       "...         ...        ...        ...        ...  ...        ...        ...   \n",
       "7556  13.103330  46.300864  20.029423  22.177696  ...  95.868560  49.123217   \n",
       "7557  13.206107  46.740202  20.051278  22.056696  ...  96.118837  49.557372   \n",
       "7558  13.105364  46.872486  19.900847  22.137087  ...  96.983104  49.753776   \n",
       "7559  13.088999  47.384870  20.013736  22.013752  ...  96.513655  49.918173   \n",
       "7560  13.138873  47.592525  20.035242  22.137095  ...  98.942452  50.373227   \n",
       "\n",
       "            492        493        494        495        496       497  \\\n",
       "0      1.000000   1.000000   1.000000   1.000000   1.000000  1.000000   \n",
       "1      0.994539   0.995621   0.983175   0.998556   1.006606  1.013144   \n",
       "2      0.994531   1.000270   0.993371   1.006561   1.007561  1.034142   \n",
       "3      0.997048   1.006668   1.003348   0.999394   1.018792  1.046797   \n",
       "4      0.989221   1.006576   1.002907   0.998764   1.013019  1.037970   \n",
       "...         ...        ...        ...        ...        ...       ...   \n",
       "7556  18.422034  21.786689  53.678932  49.603746  59.874959  8.269080   \n",
       "7557  18.455579  21.656935  53.050947  49.394364  59.892929  8.393899   \n",
       "7558  18.392681  21.525976  53.001645  49.034513  58.598952  8.476946   \n",
       "7559  18.362486  21.501115  53.051763  48.702083  59.666966  8.449551   \n",
       "7560  18.374656  21.790731  53.498408  48.597994  59.595905  8.424847   \n",
       "\n",
       "            498         499  \n",
       "0      1.000000    1.000000  \n",
       "1      1.000721    1.015787  \n",
       "2      1.013372    1.017334  \n",
       "3      1.026483    1.042496  \n",
       "4      1.022932    1.045608  \n",
       "...         ...         ...  \n",
       "7556  21.961677  107.173687  \n",
       "7557  21.929748  108.985908  \n",
       "7558  22.093061  107.391647  \n",
       "7559  22.177961  107.702697  \n",
       "7560  22.155053  108.168570  \n",
       "\n",
       "[7561 rows x 500 columns]"
      ]
     },
     "execution_count": 70,
     "metadata": {},
     "output_type": "execute_result"
    }
   ],
   "source": [
    "# Run the Monte Carlo simulation to forecast 30 years cumulative returns\n",
    "MC_30year.calc_cumulative_return()\n"
   ]
  },
  {
   "cell_type": "code",
   "execution_count": 71,
   "metadata": {},
   "outputs": [
    {
     "data": {
      "image/png": "[encoded data removed]",
      "text/plain": [
       "<Figure size 432x288 with 1 Axes>"
      ]
     },
     "metadata": {
      "needs_background": "light"
     },
     "output_type": "display_data"
    }
   ],
   "source": [
    "# Visualize the 30-year Monte Carlo simulation by creating an\n",
    "# overlay line plot\n",
    "MC_30year_sim_line_plot = MC_30year.plot_simulation()\n"
   ]
  },
  {
   "cell_type": "markdown",
   "metadata": {},
   "source": [
    "#### Step 3: Plot the probability distribution of the Monte Carlo simulation."
   ]
  },
  {
   "cell_type": "code",
   "execution_count": 72,
   "metadata": {},
   "outputs": [
    {
     "data": {
      "image/png": "[encoded data removed]",
      "text/plain": [
       "<Figure size 432x288 with 1 Axes>"
      ]
     },
     "metadata": {
      "needs_background": "light"
     },
     "output_type": "display_data"
    }
   ],
   "source": [
    "# Visualize the probability distribution of the 30-year Monte Carlo simulation \n",
    "# by plotting a histogram\n",
    "MC_30year_sim_dist_plot = MC_30year.plot_distribution()\n"
   ]
  },
  {
   "cell_type": "markdown",
   "metadata": {},
   "source": [
    "#### Step 4: Generate the summary statistics for the Monte Carlo simulation."
   ]
  },
  {
   "cell_type": "code",
   "execution_count": 76,
   "metadata": {},
   "outputs": [
    {
     "name": "stdout",
     "output_type": "stream",
     "text": [
      "The following series is a summarization on the Monte Carlo Simulation ran on the Stocks/Bond Portfolio.\n",
      "count           500.000000\n",
      "mean             39.445356\n",
      "std              31.487119\n",
      "min               2.476515\n",
      "25%              18.547598\n",
      "50%              30.855310\n",
      "75%              50.063362\n",
      "max             242.926671\n",
      "95% CI Lower      7.699260\n",
      "95% CI Upper    117.240436\n",
      "Name: 7560, dtype: float64\n",
      "-----\n"
     ]
    }
   ],
   "source": [
    "# Generate summary statistics from the 30-year Monte Carlo simulation results\n",
    "# Save the results as a variable\n",
    "MC_30year_summary_statistics = MC_30year.summarize_cumulative_return()\n",
    "\n",
    "\n",
    "# Review the 30-year Monte Carlo summary statistics\n",
    "print(f\"The following series is a summarization on the Monte Carlo Simulation ran on the Stocks/Bond Portfolio.\")\n",
    "print(MC_30year_summary_statistics)\n",
    "print('-----')"
   ]
  },
  {
   "cell_type": "markdown",
   "metadata": {},
   "source": [
    "### Analyze the Retirement Portfolio Forecasts\n",
    "\n",
    "Using the current value of only the stock and bond portion of the member's portfolio and the summary statistics that you generated from the Monte Carlo simulation, answer the following question in your Jupyter notebook:\n",
    "\n",
    "-  What are the lower and upper bounds for the expected value of the portfolio with a 95% confidence interval?\n"
   ]
  },
  {
   "cell_type": "code",
   "execution_count": 35,
   "metadata": {},
   "outputs": [],
   "source": [
    "# Print the current balance of the stock and bond portion of the members portfolio\n",
    "# YOUR CODE HERE\n"
   ]
  },
  {
   "cell_type": "code",
   "execution_count": 36,
   "metadata": {},
   "outputs": [
    {
     "ename": "SyntaxError",
     "evalue": "invalid syntax (Temp/ipykernel_18752/2789942235.py, line 2)",
     "output_type": "error",
     "traceback": [
      "\u001b[1;36m  File \u001b[1;32m\"C:\\Users\\dlpst\\AppData\\Local\\Temp/ipykernel_18752/2789942235.py\"\u001b[1;36m, line \u001b[1;32m2\u001b[0m\n\u001b[1;33m    ci_lower_thirty_cumulative_return = # YOUR CODE HERE\u001b[0m\n\u001b[1;37m                                                        ^\u001b[0m\n\u001b[1;31mSyntaxError\u001b[0m\u001b[1;31m:\u001b[0m invalid syntax\n"
     ]
    }
   ],
   "source": [
    "# Use the lower and upper `95%` confidence intervals to calculate the range of the possible outcomes for the current stock/bond portfolio\n",
    "ci_lower_thirty_cumulative_return = # YOUR CODE HERE\n",
    "ci_upper_thirty_cumulative_return = # YOUR CODE HERE\n",
    "\n",
    "# Print the result of your calculations\n",
    "# YOUR CODE HERE\n"
   ]
  },
  {
   "cell_type": "markdown",
   "metadata": {},
   "source": [
    "### Forecast Cumulative Returns in 10 Years\n",
    "\n",
    "The CTO of the credit union is impressed with your work on these planning tools but wonders if 30 years is a long time to wait until retirement. So, your next task is to adjust the retirement portfolio and run a new Monte Carlo simulation to find out if the changes will allow members to retire earlier.\n",
    "\n",
    "For this new Monte Carlo simulation, do the following: \n",
    "\n",
    "- Forecast the cumulative returns for 10 years from now. Because of the shortened investment horizon (30 years to 10 years), the portfolio needs to invest more heavily in the riskier asset&mdash;that is, stock&mdash;to help accumulate wealth for retirement. \n",
    "\n",
    "- Adjust the weights of the retirement portfolio so that the composition for the Monte Carlo simulation consists of 20% bonds and 80% stocks. \n",
    "\n",
    "- Run the simulation over 500 samples, and use the same data that the API call to Alpaca generated.\n",
    "\n",
    "- Based on the new Monte Carlo simulation, answer the following questions in your Jupyter notebook:\n",
    "\n",
    "    - Using the current value of only the stock and bond portion of the member's portfolio and the summary statistics that you generated from the new Monte Carlo simulation, what are the lower and upper bounds for the expected value of the portfolio (with the new weights) with a 95% confidence interval?\n",
    "\n",
    "    - Will weighting the portfolio more heavily toward stocks allow the credit union members to retire after only 10 years?\n"
   ]
  },
  {
   "cell_type": "code",
   "execution_count": null,
   "metadata": {},
   "outputs": [],
   "source": [
    "# Configure a Monte Carlo simulation to forecast 10 years cumulative returns\n",
    "# The weights should be split 20% to AGG and 80% to SPY.\n",
    "# Run 500 samples.\n",
    "# YOUR CODE HERE\n",
    "\n",
    "# Review the simulation input data\n",
    "# YOUR CODE HERE\n"
   ]
  },
  {
   "cell_type": "code",
   "execution_count": null,
   "metadata": {},
   "outputs": [],
   "source": [
    "# Run the Monte Carlo simulation to forecast 10 years cumulative returns\n",
    "# YOUR CODE HERE\n"
   ]
  },
  {
   "cell_type": "code",
   "execution_count": null,
   "metadata": {},
   "outputs": [],
   "source": [
    "# Visualize the 10-year Monte Carlo simulation by creating an\n",
    "# overlay line plot\n",
    "# YOUR CODE HERE\n"
   ]
  },
  {
   "cell_type": "code",
   "execution_count": null,
   "metadata": {},
   "outputs": [],
   "source": [
    "# Visualize the probability distribution of the 10-year Monte Carlo simulation \n",
    "# by plotting a histogram\n",
    "# YOUR CODE HERE\n"
   ]
  },
  {
   "cell_type": "code",
   "execution_count": null,
   "metadata": {},
   "outputs": [],
   "source": [
    "# Generate summary statistics from the 10-year Monte Carlo simulation results\n",
    "# Save the results as a variable\n",
    "# YOUR CODE HERE\n",
    "\n",
    "\n",
    "# Review the 10-year Monte Carlo summary statistics\n",
    "# YOUR CODE HERE"
   ]
  },
  {
   "cell_type": "markdown",
   "metadata": {},
   "source": [
    "### Answer the following questions:"
   ]
  },
  {
   "cell_type": "markdown",
   "metadata": {},
   "source": [
    "#### Question: Using the current value of only the stock and bond portion of the member's portfolio and the summary statistics that you generated from the new Monte Carlo simulation, what are the lower and upper bounds for the expected value of the portfolio (with the new weights) with a 95% confidence interval?"
   ]
  },
  {
   "cell_type": "code",
   "execution_count": null,
   "metadata": {},
   "outputs": [],
   "source": [
    "# Print the current balance of the stock and bond portion of the members portfolio\n",
    "# YOUR CODE HERE\n"
   ]
  },
  {
   "cell_type": "code",
   "execution_count": null,
   "metadata": {},
   "outputs": [],
   "source": [
    "# Use the lower and upper `95%` confidence intervals to calculate the range of the possible outcomes for the current stock/bond portfolio\n",
    "ci_lower_ten_cumulative_return = # YOUR CODE HERE\n",
    "ci_upper_ten_cumulative_return = # YOUR CODE HERE\n",
    "\n",
    "# Print the result of your calculations\n",
    "# YOUR CODE HERE\n"
   ]
  },
  {
   "cell_type": "markdown",
   "metadata": {},
   "source": [
    "#### Question: Will weighting the portfolio more heavily to stocks allow the credit union members to retire after only 10 years?"
   ]
  },
  {
   "cell_type": "raw",
   "metadata": {},
   "source": [
    "**Answer** # YOUR ANSWER HERE"
   ]
  },
  {
   "cell_type": "code",
   "execution_count": null,
   "metadata": {},
   "outputs": [],
   "source": []
  }
 ],
 "metadata": {
  "kernelspec": {
   "display_name": "dev",
   "language": "python",
   "name": "dev"
  },
  "language_info": {
   "codemirror_mode": {
    "name": "ipython",
    "version": 3
   },
   "file_extension": ".py",
   "mimetype": "text/x-python",
   "name": "python",
   "nbconvert_exporter": "python",
   "pygments_lexer": "ipython3",
   "version": "3.7.11"
  }
 },
 "nbformat": 4,
 "nbformat_minor": 4
}
