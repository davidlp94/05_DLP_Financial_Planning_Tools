{
 "cells": [
  {
   "cell_type": "markdown",
   "metadata": {},
   "source": [
    "# Financial Planning with APIs and Simulations\n",
    "\n",
    "In this Challenge, you’ll create two financial analysis tools by using a single Jupyter notebook:\n",
    "\n",
    "Part 1: A financial planner for emergencies. The members will be able to use this tool to visualize their current savings. The members can then determine if they have enough reserves for an emergency fund.\n",
    "\n",
    "Part 2: A financial planner for retirement. This tool will forecast the performance of their retirement portfolio in 30 years. To do this, the tool will make an Alpaca API call via the Alpaca SDK to get historical price data for use in Monte Carlo simulations.\n",
    "\n",
    "You’ll use the information from the Monte Carlo simulation to answer questions about the portfolio in your Jupyter notebook.\n",
    "\n"
   ]
  },
  {
   "cell_type": "code",
   "execution_count": 1,
   "metadata": {},
   "outputs": [],
   "source": [
    "# Import the required libraries and dependencies\n",
    "import os\n",
    "import requests\n",
    "import json\n",
    "import pandas as pd\n",
    "from dotenv import load_dotenv\n",
    "import alpaca_trade_api as tradeapi\n",
    "from MCForecastTools import MCSimulation\n",
    "\n",
    "%matplotlib inline\n",
    "import matplotlib.pyplot as plt"
   ]
  },
  {
   "cell_type": "code",
   "execution_count": 2,
   "metadata": {},
   "outputs": [
    {
     "data": {
      "text/plain": [
       "True"
      ]
     },
     "execution_count": 2,
     "metadata": {},
     "output_type": "execute_result"
    }
   ],
   "source": [
    "# Load the environment variables from the .env file\n",
    "#by calling the load_dotenv function\n",
    "load_dotenv()"
   ]
  },
  {
   "cell_type": "markdown",
   "metadata": {},
   "source": [
    "## Part 1: Create a Financial Planner for Emergencies"
   ]
  },
  {
   "cell_type": "markdown",
   "metadata": {},
   "source": [
    "### Evaluate the Cryptocurrency Wallet by Using the Requests Library\n",
    "\n",
    "In this section, you’ll determine the current value of a member’s cryptocurrency wallet. You’ll collect the current prices for the Bitcoin and Ethereum cryptocurrencies by using the Python Requests library. For the prototype, you’ll assume that the member holds the 1.2 Bitcoins (BTC) and 5.3 Ethereum coins (ETH). To do all this, complete the following steps:\n",
    "\n",
    "1. Create a variable named `monthly_income`, and set its value to `12000`.\n",
    "\n",
    "2. Use the Requests library to get the current price (in US dollars) of Bitcoin (BTC) and Ethereum (ETH) by using the API endpoints that the starter code supplies.\n",
    "\n",
    "3. Navigate the JSON response object to access the current price of each coin, and store each in a variable.\n",
    "\n",
    "    > **Hint** Note the specific identifier for each cryptocurrency in the API JSON response. The Bitcoin identifier is `1`, and the Ethereum identifier is `1027`.\n",
    "\n",
    "4. Calculate the value, in US dollars, of the current amount of each cryptocurrency and of the entire cryptocurrency wallet.\n",
    "\n"
   ]
  },
  {
   "cell_type": "code",
   "execution_count": 3,
   "metadata": {},
   "outputs": [],
   "source": [
    "# The current number of coins for each cryptocurrency asset held in the portfolio.\n",
    "btc_coins = 1.2\n",
    "eth_coins = 5.3"
   ]
  },
  {
   "cell_type": "markdown",
   "metadata": {},
   "source": [
    "#### Step 1: Create a variable named `monthly_income`, and set its value to `12000`."
   ]
  },
  {
   "cell_type": "code",
   "execution_count": 4,
   "metadata": {},
   "outputs": [],
   "source": [
    "# The monthly amount for the member's household income\n",
    "monthly_income = 12000\n"
   ]
  },
  {
   "cell_type": "markdown",
   "metadata": {},
   "source": [
    "#### Review the endpoint URLs for the API calls to Free Crypto API in order to get the current pricing information for both BTC and ETH."
   ]
  },
  {
   "cell_type": "code",
   "execution_count": 5,
   "metadata": {},
   "outputs": [],
   "source": [
    "# The Free Crypto API Call endpoint URLs for the held cryptocurrency assets\n",
    "btc_url = \"https://api.alternative.me/v2/ticker/Bitcoin/?convert=USD\"\n",
    "eth_url = \"https://api.alternative.me/v2/ticker/Ethereum/?convert=USD\""
   ]
  },
  {
   "cell_type": "markdown",
   "metadata": {},
   "source": [
    "#### Step 2. Use the Requests library to get the current price (in US dollars) of Bitcoin (BTC) and Ethereum (ETH) by using the API endpoints that the starter code supplied."
   ]
  },
  {
   "cell_type": "code",
   "execution_count": 6,
   "metadata": {},
   "outputs": [
    {
     "name": "stdout",
     "output_type": "stream",
     "text": [
      "{\n",
      "    \"data\": {\n",
      "        \"1\": {\n",
      "            \"circulating_supply\": 18945543,\n",
      "            \"id\": 1,\n",
      "            \"last_updated\": 1643691561,\n",
      "            \"max_supply\": 21000000,\n",
      "            \"name\": \"Bitcoin\",\n",
      "            \"quotes\": {\n",
      "                \"USD\": {\n",
      "                    \"market_cap\": 730910280000,\n",
      "                    \"percent_change_1h\": -0.0988221313930079,\n",
      "                    \"percent_change_24h\": 4.33493642393694,\n",
      "                    \"percent_change_7d\": 4.96619800453783,\n",
      "                    \"percentage_change_1h\": -0.0988221313930079,\n",
      "                    \"percentage_change_24h\": 4.33493642393694,\n",
      "                    \"percentage_change_7d\": 4.96619800453783,\n",
      "                    \"price\": 38600.0,\n",
      "                    \"volume_24h\": 16619402715\n",
      "                }\n",
      "            },\n",
      "            \"rank\": 1,\n",
      "            \"symbol\": \"BTC\",\n",
      "            \"total_supply\": 18945543,\n",
      "            \"website_slug\": \"bitcoin\"\n",
      "        }\n",
      "    },\n",
      "    \"metadata\": {\n",
      "        \"error\": null,\n",
      "        \"num_cryptocurrencies\": 3105,\n",
      "        \"timestamp\": 1643691561\n",
      "    }\n",
      "}\n",
      "-----\n"
     ]
    }
   ],
   "source": [
    "# Using the Python requests library, make an API call to access the current price of BTC\n",
    "btc_response = requests.get(btc_url).json()\n",
    "\n",
    "# Use the json.dumps function to review the response data from the API call\n",
    "# Use the indent and sort_keys parameters to make the response object readable\n",
    "# YOUR CODE HERE\n",
    "print(json.dumps(btc_response, indent=4, sort_keys=True))\n",
    "print('-----')"
   ]
  },
  {
   "cell_type": "code",
   "execution_count": 7,
   "metadata": {},
   "outputs": [
    {
     "name": "stdout",
     "output_type": "stream",
     "text": [
      "{\n",
      "    \"data\": {\n",
      "        \"1027\": {\n",
      "            \"circulating_supply\": 119396058,\n",
      "            \"id\": 1027,\n",
      "            \"last_updated\": 1643691492,\n",
      "            \"max_supply\": 0,\n",
      "            \"name\": \"Ethereum\",\n",
      "            \"quotes\": {\n",
      "                \"USD\": {\n",
      "                    \"market_cap\": 327225429295,\n",
      "                    \"percent_change_1h\": -0.430293947258359,\n",
      "                    \"percent_change_24h\": 9.4897039707724,\n",
      "                    \"percent_change_7d\": 12.0520352747145,\n",
      "                    \"percentage_change_1h\": -0.430293947258359,\n",
      "                    \"percentage_change_24h\": 9.4897039707724,\n",
      "                    \"percentage_change_7d\": 12.0520352747145,\n",
      "                    \"price\": 2742.85,\n",
      "                    \"volume_24h\": 13270730789\n",
      "                }\n",
      "            },\n",
      "            \"rank\": 2,\n",
      "            \"symbol\": \"ETH\",\n",
      "            \"total_supply\": 119396058,\n",
      "            \"website_slug\": \"ethereum\"\n",
      "        }\n",
      "    },\n",
      "    \"metadata\": {\n",
      "        \"error\": null,\n",
      "        \"num_cryptocurrencies\": 3105,\n",
      "        \"timestamp\": 1643691492\n",
      "    }\n",
      "}\n",
      "-----\n"
     ]
    }
   ],
   "source": [
    "# Using the Python requests library, make an API call to access the current price ETH\n",
    "eth_response = requests.get(eth_url).json()\n",
    "\n",
    "# Use the json.dumps function to review the response data from the API call\n",
    "# Use the indent and sort_keys parameters to make the response object readable\n",
    "print(json.dumps(eth_response, indent=4, sort_keys=True))\n",
    "print('-----')"
   ]
  },
  {
   "cell_type": "markdown",
   "metadata": {},
   "source": [
    "#### Step 3: Navigate the JSON response object to access the current price of each coin, and store each in a variable."
   ]
  },
  {
   "cell_type": "code",
   "execution_count": 8,
   "metadata": {},
   "outputs": [
    {
     "name": "stdout",
     "output_type": "stream",
     "text": [
      "The current price of Bitcoin is $38600.0.\n",
      "-----\n"
     ]
    }
   ],
   "source": [
    "# Navigate the BTC response object to access the current price of BTC\n",
    "btc_price = btc_response['data']['1']['quotes']['USD']['price']\n",
    "\n",
    "# Print the current price of BTC\n",
    "print(f\"The current price of Bitcoin is ${btc_price}.\")\n",
    "print('-----')"
   ]
  },
  {
   "cell_type": "code",
   "execution_count": 9,
   "metadata": {},
   "outputs": [
    {
     "name": "stdout",
     "output_type": "stream",
     "text": [
      "The current price of Ethereum is $2742.85.\n",
      "-----\n"
     ]
    }
   ],
   "source": [
    "# Navigate the BTC response object to access the current price of ETH\n",
    "eth_price = eth_response['data']['1027']['quotes']['USD']['price']\n",
    "\n",
    "# Print the current price of ETH\n",
    "print(f\"The current price of Ethereum is ${eth_price}.\")\n",
    "print('-----')"
   ]
  },
  {
   "cell_type": "markdown",
   "metadata": {},
   "source": [
    "### Step 4: Calculate the value, in US dollars, of the current amount of each cryptocurrency and of the entire cryptocurrency wallet."
   ]
  },
  {
   "cell_type": "code",
   "execution_count": 10,
   "metadata": {},
   "outputs": [
    {
     "name": "stdout",
     "output_type": "stream",
     "text": [
      "The current value of BTC holdings in USD is $46320.0.\n",
      "-----\n"
     ]
    }
   ],
   "source": [
    "# Compute the current value of the BTC holding \n",
    "btc_value = btc_price*btc_coins\n",
    "\n",
    "# Print current value of your holding in BTC\n",
    "print(f\"The current value of BTC holdings in USD is ${btc_value}.\")\n",
    "print('-----')"
   ]
  },
  {
   "cell_type": "code",
   "execution_count": 11,
   "metadata": {},
   "outputs": [
    {
     "name": "stdout",
     "output_type": "stream",
     "text": [
      "The current value of ETH holdings in USD is $14537.105.\n",
      "-----\n"
     ]
    }
   ],
   "source": [
    "# Compute the current value of the ETH holding \n",
    "eth_value = eth_price*eth_coins\n",
    "\n",
    "# Print current value of your holding in ETH\n",
    "print(f\"The current value of ETH holdings in USD is ${eth_value}.\")\n",
    "print('-----')"
   ]
  },
  {
   "cell_type": "code",
   "execution_count": 12,
   "metadata": {},
   "outputs": [
    {
     "name": "stdout",
     "output_type": "stream",
     "text": [
      "The current cryptocurrency wallet balance is $60857.10.\n",
      "-----\n"
     ]
    }
   ],
   "source": [
    "# Compute the total value of the cryptocurrency wallet\n",
    "# Add the value of the BTC holding to the value of the ETH holding\n",
    "total_crypto_wallet = btc_value + eth_value\n",
    "\n",
    "# Print current cryptocurrency wallet balance\n",
    "print(f\"The current cryptocurrency wallet balance is ${total_crypto_wallet:.2f}.\")\n",
    "print('-----')"
   ]
  },
  {
   "cell_type": "markdown",
   "metadata": {},
   "source": [
    "### Evaluate the Stock and Bond Holdings by Using the Alpaca SDK\n",
    "\n",
    "In this section, you’ll determine the current value of a member’s stock and bond holdings. You’ll make an API call to Alpaca via the Alpaca SDK to get the current closing prices of the SPDR S&P 500 ETF Trust (ticker: SPY) and of the iShares Core US Aggregate Bond ETF (ticker: AGG). For the prototype, assume that the member holds 110 shares of SPY, which represents the stock portion of their portfolio, and 200 shares of AGG, which represents the bond portion. To do all this, complete the following steps:\n",
    "\n",
    "1. In the `Starter_Code` folder, create an environment file (`.env`) to store the values of your Alpaca API key and Alpaca secret key.\n",
    "\n",
    "2. Set the variables for the Alpaca API and secret keys. Using the Alpaca SDK, create the Alpaca `tradeapi.REST` object. In this object, include the parameters for the Alpaca API key, the secret key, and the version number.\n",
    "\n",
    "3. Set the following parameters for the Alpaca API call:\n",
    "\n",
    "    - `tickers`: Use the tickers for the member’s stock and bond holdings.\n",
    "\n",
    "    - `timeframe`: Use a time frame of one day.\n",
    "\n",
    "    - `start_date` and `end_date`: Use the same date for these parameters, and format them with the date of the previous weekday (or `2020-08-07`). This is because you want the one closing price for the most-recent trading day.\n",
    "\n",
    "4. Get the current closing prices for `SPY` and `AGG` by using the Alpaca `get_barset` function. Format the response as a Pandas DataFrame by including the `df` property at the end of the `get_barset` function.\n",
    "\n",
    "5. Navigating the Alpaca response DataFrame, select the `SPY` and `AGG` closing prices, and store them as variables.\n",
    "\n",
    "6. Calculate the value, in US dollars, of the current amount of shares in each of the stock and bond portions of the portfolio, and print the results.\n"
   ]
  },
  {
   "cell_type": "markdown",
   "metadata": {},
   "source": [
    "#### Review the total number of shares held in both (SPY) and (AGG)."
   ]
  },
  {
   "cell_type": "code",
   "execution_count": 13,
   "metadata": {},
   "outputs": [],
   "source": [
    "# Current amount of shares held in both the stock (SPY) and bond (AGG) portion of the portfolio.\n",
    "spy_shares = 110\n",
    "agg_shares = 200\n"
   ]
  },
  {
   "cell_type": "markdown",
   "metadata": {},
   "source": [
    "#### Step 1: In the `Starter_Code` folder, create an environment file (`.env`) to store the values of your Alpaca API key and Alpaca secret key."
   ]
  },
  {
   "cell_type": "markdown",
   "metadata": {},
   "source": [
    "#### Step 2: Set the variables for the Alpaca API and secret keys. Using the Alpaca SDK, create the Alpaca `tradeapi.REST` object. In this object, include the parameters for the Alpaca API key, the secret key, and the version number."
   ]
  },
  {
   "cell_type": "code",
   "execution_count": 14,
   "metadata": {},
   "outputs": [],
   "source": [
    "# Set the variables for the Alpaca API and secret keys\n",
    "alpaca_api_key = os.getenv('ALPACA_API_KEY_ENV')\n",
    "alpaca_secret_key = os.getenv('ALPACA_SECRET_KEY_ENV')\n",
    "\n",
    "# Create the Alpaca tradeapi.REST object\n",
    "alpaca = tradeapi.REST(\n",
    "    alpaca_api_key,\n",
    "    alpaca_secret_key,\n",
    "    api_version=\"v2\"\n",
    ")\n"
   ]
  },
  {
   "cell_type": "markdown",
   "metadata": {},
   "source": [
    "#### Step 3: Set the following parameters for the Alpaca API call:\n",
    "\n",
    "- `tickers`: Use the tickers for the member’s stock and bond holdings.\n",
    "\n",
    "- `timeframe`: Use a time frame of one day.\n",
    "\n",
    "- `start_date` and `end_date`: Use the same date for these parameters, and format them with the date of the previous weekday (or `2020-08-07`). This is because you want the one closing price for the most-recent trading day.\n"
   ]
  },
  {
   "cell_type": "code",
   "execution_count": 15,
   "metadata": {},
   "outputs": [],
   "source": [
    "# Set the tickers for both the bond and stock portion of the portfolio\n",
    "tickers = ['SPY', 'AGG']\n",
    "\n",
    "# Set timeframe to 1D \n",
    "timeframe = '1D'\n",
    "\n",
    "# Format current date as ISO format\n",
    "# Set both the start and end date at the date of your prior weekday \n",
    "# This will give you the closing price of the previous trading day\n",
    "# Alternatively you can use a start and end date of 2020-08-07\n",
    "start_date = pd.Timestamp('2022-01-28', tz='America/New_York').isoformat()\n",
    "end_date = pd.Timestamp('2022-01-28', tz='America/New_York').isoformat()\n"
   ]
  },
  {
   "cell_type": "markdown",
   "metadata": {},
   "source": [
    "#### Step 4: Get the current closing prices for `SPY` and `AGG` by using the Alpaca `get_barset` function. Format the response as a Pandas DataFrame by including the `df` property at the end of the `get_barset` function."
   ]
  },
  {
   "cell_type": "code",
   "execution_count": 16,
   "metadata": {},
   "outputs": [
    {
     "name": "stderr",
     "output_type": "stream",
     "text": [
      "C:\\Users\\dlpst\\anaconda3\\envs\\dev\\envs\\dev\\lib\\site-packages\\ipykernel_launcher.py:8: DeprecatedWarning: get_barset is deprecated as of v1.0.0. Use get_bars instead\n",
      "  \n"
     ]
    },
    {
     "data": {
      "text/html": [
       "<div>\n",
       "<style scoped>\n",
       "    .dataframe tbody tr th:only-of-type {\n",
       "        vertical-align: middle;\n",
       "    }\n",
       "\n",
       "    .dataframe tbody tr th {\n",
       "        vertical-align: top;\n",
       "    }\n",
       "\n",
       "    .dataframe thead tr th {\n",
       "        text-align: left;\n",
       "    }\n",
       "\n",
       "    .dataframe thead tr:last-of-type th {\n",
       "        text-align: right;\n",
       "    }\n",
       "</style>\n",
       "<table border=\"1\" class=\"dataframe\">\n",
       "  <thead>\n",
       "    <tr>\n",
       "      <th></th>\n",
       "      <th colspan=\"5\" halign=\"left\">AGG</th>\n",
       "      <th colspan=\"5\" halign=\"left\">SPY</th>\n",
       "    </tr>\n",
       "    <tr>\n",
       "      <th></th>\n",
       "      <th>open</th>\n",
       "      <th>high</th>\n",
       "      <th>low</th>\n",
       "      <th>close</th>\n",
       "      <th>volume</th>\n",
       "      <th>open</th>\n",
       "      <th>high</th>\n",
       "      <th>low</th>\n",
       "      <th>close</th>\n",
       "      <th>volume</th>\n",
       "    </tr>\n",
       "    <tr>\n",
       "      <th>time</th>\n",
       "      <th></th>\n",
       "      <th></th>\n",
       "      <th></th>\n",
       "      <th></th>\n",
       "      <th></th>\n",
       "      <th></th>\n",
       "      <th></th>\n",
       "      <th></th>\n",
       "      <th></th>\n",
       "      <th></th>\n",
       "    </tr>\n",
       "  </thead>\n",
       "  <tbody>\n",
       "    <tr>\n",
       "      <th>2022-01-28 00:00:00-05:00</th>\n",
       "      <td>111.46</td>\n",
       "      <td>111.86</td>\n",
       "      <td>111.44</td>\n",
       "      <td>111.81</td>\n",
       "      <td>10400422</td>\n",
       "      <td>432.7</td>\n",
       "      <td>442</td>\n",
       "      <td>427.82</td>\n",
       "      <td>441.92</td>\n",
       "      <td>142062305</td>\n",
       "    </tr>\n",
       "  </tbody>\n",
       "</table>\n",
       "</div>"
      ],
      "text/plain": [
       "                              AGG                                      SPY  \\\n",
       "                             open    high     low   close    volume   open   \n",
       "time                                                                         \n",
       "2022-01-28 00:00:00-05:00  111.46  111.86  111.44  111.81  10400422  432.7   \n",
       "\n",
       "                                                           \n",
       "                          high     low   close     volume  \n",
       "time                                                       \n",
       "2022-01-28 00:00:00-05:00  442  427.82  441.92  142062305  "
      ]
     },
     "execution_count": 16,
     "metadata": {},
     "output_type": "execute_result"
    }
   ],
   "source": [
    "# Use the Alpaca get_barset function to get current closing prices the portfolio\n",
    "# Be sure to set the `df` property after the function to format the response object as a DataFrame\n",
    "stock_portfolio_df = alpaca.get_barset(\n",
    "    tickers,\n",
    "    timeframe,\n",
    "    start = start_date,\n",
    "    end = end_date,\n",
    "    limit = 1000\n",
    ").df\n",
    "\n",
    "# Review the first 5 rows of the Alpaca DataFrame\n",
    "stock_portfolio_df.head()\n"
   ]
  },
  {
   "cell_type": "markdown",
   "metadata": {},
   "source": [
    "#### Step 5: Navigating the Alpaca response DataFrame, select the `SPY` and `AGG` closing prices, and store them as variables."
   ]
  },
  {
   "cell_type": "code",
   "execution_count": 17,
   "metadata": {},
   "outputs": [
    {
     "name": "stdout",
     "output_type": "stream",
     "text": [
      "The closing price of AGG is $111.81.\n",
      "-----\n"
     ]
    }
   ],
   "source": [
    "# Access the closing price for AGG from the Alpaca DataFrame\n",
    "# Converting the value to a floating point number\n",
    "agg_close_price = stock_portfolio_df['AGG']['close']['2022-01-28 00:00:00-05:00']\n",
    "\n",
    "# Print the AGG closing price\n",
    "print(f\"The closing price of AGG is ${agg_close_price:.2f}.\")\n",
    "print('-----')"
   ]
  },
  {
   "cell_type": "code",
   "execution_count": 18,
   "metadata": {},
   "outputs": [
    {
     "name": "stdout",
     "output_type": "stream",
     "text": [
      "The closing price of SPY is $441.92.\n",
      "-----\n"
     ]
    }
   ],
   "source": [
    "# Access the closing price for SPY from the Alpaca DataFrame\n",
    "# Converting the value to a floating point number\n",
    "spy_close_price = stock_portfolio_df['SPY']['close']['2022-01-28 00:00:00-05:00']\n",
    "\n",
    "# Print the SPY closing price\n",
    "print(f\"The closing price of SPY is ${spy_close_price:.2f}.\")\n",
    "print('-----')"
   ]
  },
  {
   "cell_type": "markdown",
   "metadata": {},
   "source": [
    "#### Step 6: Calculate the value, in US dollars, of the current amount of shares in each of the stock and bond portions of the portfolio, and print the results."
   ]
  },
  {
   "cell_type": "code",
   "execution_count": 19,
   "metadata": {},
   "outputs": [
    {
     "name": "stdout",
     "output_type": "stream",
     "text": [
      "The current value of the bond portfolio is $22362.00.\n",
      "-----\n"
     ]
    }
   ],
   "source": [
    "# Calculate the current value of the bond portion of the portfolio\n",
    "agg_value = agg_close_price*agg_shares\n",
    "\n",
    "# Print the current value of the bond portfolio\n",
    "print(f\"The current value of the bond portfolio is ${agg_value:.2f}.\")\n",
    "print('-----')"
   ]
  },
  {
   "cell_type": "code",
   "execution_count": 20,
   "metadata": {},
   "outputs": [
    {
     "name": "stdout",
     "output_type": "stream",
     "text": [
      "The current value of the stock portfolio is $48611.20.\n",
      "-----\n"
     ]
    }
   ],
   "source": [
    "# Calculate the current value of the stock portion of the portfolio\n",
    "spy_value = spy_close_price*spy_shares\n",
    "\n",
    "# Print the current value of the stock portfolio\n",
    "print(f\"The current value of the stock portfolio is ${spy_value:.2f}.\")\n",
    "print('-----')"
   ]
  },
  {
   "cell_type": "code",
   "execution_count": 21,
   "metadata": {},
   "outputs": [
    {
     "name": "stdout",
     "output_type": "stream",
     "text": [
      "The current balance of the stock and bond portion of the portfolio is $70973.20.\n",
      "-----\n"
     ]
    }
   ],
   "source": [
    "# Calculate the total value of the stock and bond portion of the portfolio\n",
    "total_stocks_bonds = spy_value+agg_value\n",
    "\n",
    "# Print the current balance of the stock and bond portion of the portfolio\n",
    "print(f\"The current balance of the stock and bond portion of the portfolio is ${total_stocks_bonds:.2f}.\")\n",
    "print('-----')"
   ]
  },
  {
   "cell_type": "code",
   "execution_count": 22,
   "metadata": {},
   "outputs": [
    {
     "name": "stdout",
     "output_type": "stream",
     "text": [
      "The total value of this member's entire savings portfolio is $131830.30.\n",
      "-----\n"
     ]
    }
   ],
   "source": [
    "# Calculate the total value of the member's entire savings portfolio\n",
    "# Add the value of the cryptocurrency walled to the value of the total stocks and bonds\n",
    "total_portfolio = total_stocks_bonds+total_crypto_wallet\n",
    "\n",
    "# Print current cryptocurrency wallet balance\n",
    "print(f\"The total value of this member's entire savings portfolio is ${total_portfolio:.2f}.\")\n",
    "print('-----')"
   ]
  },
  {
   "cell_type": "markdown",
   "metadata": {},
   "source": [
    "### Evaluate the Emergency Fund\n",
    "\n",
    "In this section, you’ll use the valuations for the cryptocurrency wallet and for the stock and bond portions of the portfolio to determine if the credit union member has enough savings to build an emergency fund into their financial plan. To do this, complete the following steps:\n",
    "\n",
    "1. Create a Python list named `savings_data` that has two elements. The first element contains the total value of the cryptocurrency wallet. The second element contains the total value of the stock and bond portions of the portfolio.\n",
    "\n",
    "2. Use the `savings_data` list to create a Pandas DataFrame named `savings_df`, and then display this DataFrame. The function to create the DataFrame should take the following three parameters:\n",
    "\n",
    "    - `savings_data`: Use the list that you just created.\n",
    "\n",
    "    - `columns`: Set this parameter equal to a Python list with a single value called `amount`.\n",
    "\n",
    "    - `index`: Set this parameter equal to a Python list with the values of `crypto` and `stock/bond`.\n",
    "\n",
    "3. Use the `savings_df` DataFrame to plot a pie chart that visualizes the composition of the member’s portfolio. The y-axis of the pie chart uses `amount`. Be sure to add a title.\n",
    "\n",
    "4. Using Python, determine if the current portfolio has enough to create an emergency fund as part of the member’s financial plan. Ideally, an emergency fund should equal to three times the member’s monthly income. To do this, implement the following steps:\n",
    "\n",
    "    1. Create a variable named `emergency_fund_value`, and set it equal to three times the value of the member’s `monthly_income` of $12000. (You set this earlier in Part 1).\n",
    "\n",
    "    2. Create a series of three if statements to determine if the member’s total portfolio is large enough to fund the emergency portfolio:\n",
    "\n",
    "        1. If the total portfolio value is greater than the emergency fund value, display a message congratulating the member for having enough money in this fund.\n",
    "\n",
    "        2. Else if the total portfolio value is equal to the emergency fund value, display a message congratulating the member on reaching this important financial goal.\n",
    "\n",
    "        3. Else the total portfolio is less than the emergency fund value, so display a message showing how many dollars away the member is from reaching the goal. (Subtract the total portfolio value from the emergency fund value.)\n"
   ]
  },
  {
   "cell_type": "markdown",
   "metadata": {},
   "source": [
    "#### Step 1: Create a Python list named `savings_data` that has two elements. The first element contains the total value of the cryptocurrency wallet. The second element contains the total value of the stock and bond portions of the portfolio."
   ]
  },
  {
   "cell_type": "code",
   "execution_count": 23,
   "metadata": {},
   "outputs": [
    {
     "name": "stdout",
     "output_type": "stream",
     "text": [
      "[60857.104999999996, 70973.20000000001]\n",
      "-----\n"
     ]
    }
   ],
   "source": [
    "# Consolidate financial assets data into a Python list\n",
    "savings_data = [total_crypto_wallet, total_stocks_bonds]\n",
    "\n",
    "# Review the Python list savings_data\n",
    "print(savings_data)\n",
    "print('-----')"
   ]
  },
  {
   "cell_type": "markdown",
   "metadata": {},
   "source": [
    "#### Step 2: Use the `savings_data` list to create a Pandas DataFrame named `savings_df`, and then display this DataFrame. The function to create the DataFrame should take the following three parameters:\n",
    "\n",
    "- `savings_data`: Use the list that you just created.\n",
    "\n",
    "- `columns`: Set this parameter equal to a Python list with a single value called `amount`.\n",
    "\n",
    "- `index`: Set this parameter equal to a Python list with the values of `crypto` and `stock/bond`.\n"
   ]
  },
  {
   "cell_type": "code",
   "execution_count": 24,
   "metadata": {},
   "outputs": [
    {
     "name": "stdout",
     "output_type": "stream",
     "text": [
      "                 Amount\n",
      "Crypto        60857.105\n",
      "Stocks/Bonds  70973.200\n"
     ]
    }
   ],
   "source": [
    "# Create a Pandas DataFrame called savings_df \n",
    "columns = ['Amount']\n",
    "index = ['Crypto', 'Stocks/Bonds']\n",
    "savings_df = pd.DataFrame(savings_data, columns=columns, index=index)\n",
    "\n",
    "# Display the savings_df DataFrame\n",
    "print(savings_df)\n"
   ]
  },
  {
   "cell_type": "markdown",
   "metadata": {},
   "source": [
    "#### Step 3: Use the `savings_df` DataFrame to plot a pie chart that visualizes the composition of the member’s portfolio. The y-axis of the pie chart uses `amount`. Be sure to add a title."
   ]
  },
  {
   "cell_type": "code",
   "execution_count": 25,
   "metadata": {},
   "outputs": [
    {
     "data": {
      "text/plain": [
       "<AxesSubplot:title={'center':'Portfolio Composition'}, ylabel='Amount'>"
      ]
     },
     "execution_count": 25,
     "metadata": {},
     "output_type": "execute_result"
    },
    {
     "data": {
      "image/png": "[encoded data removed]",
      "text/plain": [
       "<Figure size 432x288 with 1 Axes>"
      ]
     },
     "metadata": {},
     "output_type": "display_data"
    }
   ],
   "source": [
    "# Plot the total value of the member's portfolio (crypto and stock/bond) in a pie chart\n",
    "savings_df.plot.pie(y='Amount', title='Portfolio Composition')\n"
   ]
  },
  {
   "cell_type": "markdown",
   "metadata": {},
   "source": [
    "#### Step 4: Using Python, determine if the current portfolio has enough to create an emergency fund as part of the member’s financial plan. Ideally, an emergency fund should equal to three times the member’s monthly income. To do this, implement the following steps:\n",
    "\n",
    "Step 1. Create a variable named `emergency_fund_value`, and set it equal to three times the value of the member’s `monthly_income` of 12000. (You set this earlier in Part 1).\n",
    "\n",
    "Step 2. Create a series of three if statements to determine if the member’s total portfolio is large enough to fund the emergency portfolio:\n",
    "\n",
    "* If the total portfolio value is greater than the emergency fund value, display a message congratulating the member for having enough money in this fund.\n",
    "\n",
    "* Else if the total portfolio value is equal to the emergency fund value, display a message congratulating the member on reaching this important financial goal.\n",
    "\n",
    "* Else the total portfolio is less than the emergency fund value, so display a message showing how many dollars away the member is from reaching the goal. (Subtract the total portfolio value from the emergency fund value.)\n"
   ]
  },
  {
   "cell_type": "markdown",
   "metadata": {},
   "source": [
    "##### Step 4-1: Create a variable named `emergency_fund_value`, and set it equal to three times the value of the member’s `monthly_income` of 12000. (You set this earlier in Part 1)."
   ]
  },
  {
   "cell_type": "code",
   "execution_count": 26,
   "metadata": {},
   "outputs": [],
   "source": [
    "# Create a variable named emergency_fund_value\n",
    "emergency_fund_value = monthly_income*3"
   ]
  },
  {
   "cell_type": "markdown",
   "metadata": {},
   "source": [
    "##### Step 4-2: Create a series of three if statements to determine if the member’s total portfolio is large enough to fund the emergency portfolio:\n",
    "\n",
    "* If the total portfolio value is greater than the emergency fund value, display a message congratulating the member for having enough money in this fund.\n",
    "\n",
    "* Else if the total portfolio value is equal to the emergency fund value, display a message congratulating the member on reaching this important financial goal.\n",
    "\n",
    "* Else the total portfolio is less than the emergency fund value, so display a message showing how many dollars away the member is from reaching the goal. (Subtract the total portfolio value from the emergency fund value.)"
   ]
  },
  {
   "cell_type": "code",
   "execution_count": 27,
   "metadata": {},
   "outputs": [
    {
     "name": "stdout",
     "output_type": "stream",
     "text": [
      "Congratulations! You have enough money in this fund for emergency purposes.\n",
      "-----\n"
     ]
    }
   ],
   "source": [
    "# Evaluate the possibility of creating an emergency fund with 3 conditions:\n",
    "if total_portfolio > emergency_fund_value:\n",
    "    print(f\"Congratulations! You have enough money in this fund for emergency purposes.\")\n",
    "    print('-----')\n",
    "elif total_portfolio == emergency_fund_value:\n",
    "    print(f\"Congratulations on acheving this important financial goal of saving enough money for emergency purposes!\")\n",
    "    print('-----')\n",
    "else:\n",
    "    print(f\"You currently need an additional ${(emergency_fund_value - total_portfolio):.2f} in your portfolio to have a healthy emergency savings fund.\")\n",
    "    print('-----')\n"
   ]
  },
  {
   "cell_type": "markdown",
   "metadata": {},
   "source": [
    "## Part 2: Create a Financial Planner for Retirement"
   ]
  },
  {
   "cell_type": "markdown",
   "metadata": {},
   "source": [
    "### Create the Monte Carlo Simulation\n",
    "\n",
    "In this section, you’ll use the MCForecastTools library to create a Monte Carlo simulation for the member’s savings portfolio. To do this, complete the following steps:\n",
    "\n",
    "1. Make an API call via the Alpaca SDK to get 3 years of historical closing prices for a traditional 60/40 portfolio split: 60% stocks (SPY) and 40% bonds (AGG).\n",
    "\n",
    "2. Run a Monte Carlo simulation of 500 samples and 30 years for the 60/40 portfolio, and then plot the results.The following image shows the overlay line plot resulting from a simulation with these characteristics. However, because a random number generator is used to run each live Monte Carlo simulation, your image will differ slightly from this exact image:\n",
    "\n",
    "![A screenshot depicts the resulting plot.](Images/5-4-monte-carlo-line-plot.png)\n",
    "\n",
    "3. Plot the probability distribution of the Monte Carlo simulation. Plot the probability distribution of the Monte Carlo simulation. The following image shows the histogram plot resulting from a simulation with these characteristics. However, because a random number generator is used to run each live Monte Carlo simulation, your image will differ slightly from this exact image:\n",
    "\n",
    "![A screenshot depicts the histogram plot.](Images/5-4-monte-carlo-histogram.png)\n",
    "\n",
    "4. Generate the summary statistics for the Monte Carlo simulation.\n",
    "\n"
   ]
  },
  {
   "cell_type": "markdown",
   "metadata": {},
   "source": [
    "#### Step 1: Make an API call via the Alpaca SDK to get 3 years of historical closing prices for a traditional 60/40 portfolio split: 60% stocks (SPY) and 40% bonds (AGG)."
   ]
  },
  {
   "cell_type": "code",
   "execution_count": 28,
   "metadata": {},
   "outputs": [],
   "source": [
    "# Set start and end dates of 3 years back from your current date\n",
    "# Alternatively, you can use an end date of 2020-08-07 and work 3 years back from that date \n",
    "start_date = pd.Timestamp('2019-01-31', tz='America/New_York').isoformat()\n",
    "end_date = pd.Timestamp('2022-01-31', tz='America/New_York').isoformat()\n",
    "\n",
    "# Set number of rows to 1000 to retrieve the maximum amount of rows\n",
    "limit_rows = 1000"
   ]
  },
  {
   "cell_type": "code",
   "execution_count": 29,
   "metadata": {},
   "outputs": [
    {
     "name": "stdout",
     "output_type": "stream",
     "text": [
      "                              AGG                                       \\\n",
      "                             open    high      low     close    volume   \n",
      "time                                                                     \n",
      "2019-01-31 00:00:00-05:00  107.30  107.53  107.290  107.4600  11394113   \n",
      "2019-02-01 00:00:00-05:00  107.09  107.15  106.880  106.9600   5325410   \n",
      "2019-02-04 00:00:00-05:00  106.83  106.90  106.770  106.8950   9790488   \n",
      "2019-02-05 00:00:00-05:00  106.95  107.14  106.950  107.0900   4918385   \n",
      "2019-02-06 00:00:00-05:00  107.20  107.22  106.985  107.0441   6022187   \n",
      "\n",
      "                              SPY                                      \n",
      "                             open    high     low     close    volume  \n",
      "time                                                                   \n",
      "2019-01-31 00:00:00-05:00  267.51  270.47  267.27  270.2325  73699733  \n",
      "2019-02-01 00:00:00-05:00  270.15  271.20  269.18  270.0700  68194167  \n",
      "2019-02-04 00:00:00-05:00  270.11  271.80  269.36  271.7800  46985797  \n",
      "2019-02-05 00:00:00-05:00  272.44  273.44  271.88  273.1300  61540042  \n",
      "2019-02-06 00:00:00-05:00  272.79  273.34  271.92  272.7000  43446324  \n",
      "-----\n"
     ]
    },
    {
     "name": "stderr",
     "output_type": "stream",
     "text": [
      "C:\\Users\\dlpst\\anaconda3\\envs\\dev\\envs\\dev\\lib\\site-packages\\ipykernel_launcher.py:10: DeprecatedWarning: get_barset is deprecated as of v1.0.0. Use get_bars instead\n",
      "  # Remove the CWD from sys.path while we load stuff.\n"
     ]
    }
   ],
   "source": [
    "# Use the Alpaca get_barset function to make the API call to get the 3 years worth of pricing data\n",
    "# The tickers and timeframe parameters should have been set in Part 1 of this activity \n",
    "# The start and end dates should be updated with the information set above\n",
    "# Remember to add the df property to the end of the call so the response is returned as a DataFrame\n",
    "stock_portfolio_df = alpaca.get_barset(\n",
    "    tickers,\n",
    "    timeframe,\n",
    "    start = start_date,\n",
    "    end = end_date,\n",
    "    limit = limit_rows\n",
    ").df\n",
    "\n",
    "\n",
    "# Display both the first and last five rows of the DataFrame\n",
    "print(stock_portfolio_df.head())\n",
    "stock_portfolio_df.tail()\n",
    "print('-----')"
   ]
  },
  {
   "cell_type": "markdown",
   "metadata": {},
   "source": [
    "#### Step 2: Run a Monte Carlo simulation of 500 samples and 30 years for the 60/40 portfolio, and then plot the results."
   ]
  },
  {
   "cell_type": "code",
   "execution_count": 30,
   "metadata": {},
   "outputs": [
    {
     "name": "stdout",
     "output_type": "stream",
     "text": [
      "The following DataFrame is a preview of the data used for the 30-year MCSimulation.\n"
     ]
    },
    {
     "data": {
      "text/html": [
       "<div>\n",
       "<style scoped>\n",
       "    .dataframe tbody tr th:only-of-type {\n",
       "        vertical-align: middle;\n",
       "    }\n",
       "\n",
       "    .dataframe tbody tr th {\n",
       "        vertical-align: top;\n",
       "    }\n",
       "\n",
       "    .dataframe thead tr th {\n",
       "        text-align: left;\n",
       "    }\n",
       "\n",
       "    .dataframe thead tr:last-of-type th {\n",
       "        text-align: right;\n",
       "    }\n",
       "</style>\n",
       "<table border=\"1\" class=\"dataframe\">\n",
       "  <thead>\n",
       "    <tr>\n",
       "      <th></th>\n",
       "      <th colspan=\"6\" halign=\"left\">AGG</th>\n",
       "      <th colspan=\"6\" halign=\"left\">SPY</th>\n",
       "    </tr>\n",
       "    <tr>\n",
       "      <th></th>\n",
       "      <th>open</th>\n",
       "      <th>high</th>\n",
       "      <th>low</th>\n",
       "      <th>close</th>\n",
       "      <th>volume</th>\n",
       "      <th>daily_return</th>\n",
       "      <th>open</th>\n",
       "      <th>high</th>\n",
       "      <th>low</th>\n",
       "      <th>close</th>\n",
       "      <th>volume</th>\n",
       "      <th>daily_return</th>\n",
       "    </tr>\n",
       "    <tr>\n",
       "      <th>time</th>\n",
       "      <th></th>\n",
       "      <th></th>\n",
       "      <th></th>\n",
       "      <th></th>\n",
       "      <th></th>\n",
       "      <th></th>\n",
       "      <th></th>\n",
       "      <th></th>\n",
       "      <th></th>\n",
       "      <th></th>\n",
       "      <th></th>\n",
       "      <th></th>\n",
       "    </tr>\n",
       "  </thead>\n",
       "  <tbody>\n",
       "    <tr>\n",
       "      <th>2019-01-31 00:00:00-05:00</th>\n",
       "      <td>107.30</td>\n",
       "      <td>107.53</td>\n",
       "      <td>107.290</td>\n",
       "      <td>107.4600</td>\n",
       "      <td>11394113</td>\n",
       "      <td>NaN</td>\n",
       "      <td>267.51</td>\n",
       "      <td>270.47</td>\n",
       "      <td>267.27</td>\n",
       "      <td>270.2325</td>\n",
       "      <td>73699733</td>\n",
       "      <td>NaN</td>\n",
       "    </tr>\n",
       "    <tr>\n",
       "      <th>2019-02-01 00:00:00-05:00</th>\n",
       "      <td>107.09</td>\n",
       "      <td>107.15</td>\n",
       "      <td>106.880</td>\n",
       "      <td>106.9600</td>\n",
       "      <td>5325410</td>\n",
       "      <td>-0.004653</td>\n",
       "      <td>270.15</td>\n",
       "      <td>271.20</td>\n",
       "      <td>269.18</td>\n",
       "      <td>270.0700</td>\n",
       "      <td>68194167</td>\n",
       "      <td>-0.000601</td>\n",
       "    </tr>\n",
       "    <tr>\n",
       "      <th>2019-02-04 00:00:00-05:00</th>\n",
       "      <td>106.83</td>\n",
       "      <td>106.90</td>\n",
       "      <td>106.770</td>\n",
       "      <td>106.8950</td>\n",
       "      <td>9790488</td>\n",
       "      <td>-0.000608</td>\n",
       "      <td>270.11</td>\n",
       "      <td>271.80</td>\n",
       "      <td>269.36</td>\n",
       "      <td>271.7800</td>\n",
       "      <td>46985797</td>\n",
       "      <td>0.006332</td>\n",
       "    </tr>\n",
       "    <tr>\n",
       "      <th>2019-02-05 00:00:00-05:00</th>\n",
       "      <td>106.95</td>\n",
       "      <td>107.14</td>\n",
       "      <td>106.950</td>\n",
       "      <td>107.0900</td>\n",
       "      <td>4918385</td>\n",
       "      <td>0.001824</td>\n",
       "      <td>272.44</td>\n",
       "      <td>273.44</td>\n",
       "      <td>271.88</td>\n",
       "      <td>273.1300</td>\n",
       "      <td>61540042</td>\n",
       "      <td>0.004967</td>\n",
       "    </tr>\n",
       "    <tr>\n",
       "      <th>2019-02-06 00:00:00-05:00</th>\n",
       "      <td>107.20</td>\n",
       "      <td>107.22</td>\n",
       "      <td>106.985</td>\n",
       "      <td>107.0441</td>\n",
       "      <td>6022187</td>\n",
       "      <td>-0.000429</td>\n",
       "      <td>272.79</td>\n",
       "      <td>273.34</td>\n",
       "      <td>271.92</td>\n",
       "      <td>272.7000</td>\n",
       "      <td>43446324</td>\n",
       "      <td>-0.001574</td>\n",
       "    </tr>\n",
       "  </tbody>\n",
       "</table>\n",
       "</div>"
      ],
      "text/plain": [
       "                              AGG                                       \\\n",
       "                             open    high      low     close    volume   \n",
       "time                                                                     \n",
       "2019-01-31 00:00:00-05:00  107.30  107.53  107.290  107.4600  11394113   \n",
       "2019-02-01 00:00:00-05:00  107.09  107.15  106.880  106.9600   5325410   \n",
       "2019-02-04 00:00:00-05:00  106.83  106.90  106.770  106.8950   9790488   \n",
       "2019-02-05 00:00:00-05:00  106.95  107.14  106.950  107.0900   4918385   \n",
       "2019-02-06 00:00:00-05:00  107.20  107.22  106.985  107.0441   6022187   \n",
       "\n",
       "                                           SPY                            \\\n",
       "                          daily_return    open    high     low     close   \n",
       "time                                                                       \n",
       "2019-01-31 00:00:00-05:00          NaN  267.51  270.47  267.27  270.2325   \n",
       "2019-02-01 00:00:00-05:00    -0.004653  270.15  271.20  269.18  270.0700   \n",
       "2019-02-04 00:00:00-05:00    -0.000608  270.11  271.80  269.36  271.7800   \n",
       "2019-02-05 00:00:00-05:00     0.001824  272.44  273.44  271.88  273.1300   \n",
       "2019-02-06 00:00:00-05:00    -0.000429  272.79  273.34  271.92  272.7000   \n",
       "\n",
       "                                                  \n",
       "                             volume daily_return  \n",
       "time                                              \n",
       "2019-01-31 00:00:00-05:00  73699733          NaN  \n",
       "2019-02-01 00:00:00-05:00  68194167    -0.000601  \n",
       "2019-02-04 00:00:00-05:00  46985797     0.006332  \n",
       "2019-02-05 00:00:00-05:00  61540042     0.004967  \n",
       "2019-02-06 00:00:00-05:00  43446324    -0.001574  "
      ]
     },
     "execution_count": 30,
     "metadata": {},
     "output_type": "execute_result"
    }
   ],
   "source": [
    "# Configure the Monte Carlo simulation to forecast 30 years cumulative returns\n",
    "# The weights should be split 40% to AGG and 60% to SPY.\n",
    "# Run 500 samples.\n",
    "MC_30year = MCSimulation(\n",
    "    portfolio_data = stock_portfolio_df,\n",
    "    weights = [0.40,0.60],\n",
    "    num_simulation = 500,\n",
    "    num_trading_days = 252*30\n",
    ")\n",
    "\n",
    "# Review the simulation input data\n",
    "print('The following DataFrame is a preview of the data used for the 30-year MCSimulation.')\n",
    "MC_30year.portfolio_data.head()"
   ]
  },
  {
   "cell_type": "code",
   "execution_count": 31,
   "metadata": {},
   "outputs": [
    {
     "name": "stdout",
     "output_type": "stream",
     "text": [
      "Running MC Simulation over 30 year period.\n",
      "Running Monte Carlo simulation number 0.\n",
      "Running Monte Carlo simulation number 10.\n",
      "Running Monte Carlo simulation number 20.\n",
      "Running Monte Carlo simulation number 30.\n",
      "Running Monte Carlo simulation number 40.\n",
      "Running Monte Carlo simulation number 50.\n",
      "Running Monte Carlo simulation number 60.\n",
      "Running Monte Carlo simulation number 70.\n",
      "Running Monte Carlo simulation number 80.\n",
      "Running Monte Carlo simulation number 90.\n",
      "Running Monte Carlo simulation number 100.\n"
     ]
    },
    {
     "name": "stderr",
     "output_type": "stream",
     "text": [
      "C:\\Users\\dlpst\\OneDrive\\Documents\\UC_Berkeley_Blockchain_Bootcamp\\GitHub\\05_DLP_Financial_Planning_Tools\\MCForecastTools.py:117: PerformanceWarning: DataFrame is highly fragmented.  This is usually the result of calling `frame.insert` many times, which has poor performance.  Consider joining all columns at once using pd.concat(axis=1) instead.  To get a de-fragmented frame, use `newframe = frame.copy()`\n",
      "  portfolio_cumulative_returns[n] = (1 + sim_df.fillna(0)).cumprod()\n"
     ]
    },
    {
     "name": "stdout",
     "output_type": "stream",
     "text": [
      "Running Monte Carlo simulation number 110.\n",
      "Running Monte Carlo simulation number 120.\n",
      "Running Monte Carlo simulation number 130.\n",
      "Running Monte Carlo simulation number 140.\n",
      "Running Monte Carlo simulation number 150.\n",
      "Running Monte Carlo simulation number 160.\n",
      "Running Monte Carlo simulation number 170.\n",
      "Running Monte Carlo simulation number 180.\n",
      "Running Monte Carlo simulation number 190.\n",
      "Running Monte Carlo simulation number 200.\n",
      "Running Monte Carlo simulation number 210.\n",
      "Running Monte Carlo simulation number 220.\n",
      "Running Monte Carlo simulation number 230.\n",
      "Running Monte Carlo simulation number 240.\n",
      "Running Monte Carlo simulation number 250.\n",
      "Running Monte Carlo simulation number 260.\n",
      "Running Monte Carlo simulation number 270.\n",
      "Running Monte Carlo simulation number 280.\n",
      "Running Monte Carlo simulation number 290.\n",
      "Running Monte Carlo simulation number 300.\n",
      "Running Monte Carlo simulation number 310.\n",
      "Running Monte Carlo simulation number 320.\n",
      "Running Monte Carlo simulation number 330.\n",
      "Running Monte Carlo simulation number 340.\n",
      "Running Monte Carlo simulation number 350.\n",
      "Running Monte Carlo simulation number 360.\n",
      "Running Monte Carlo simulation number 370.\n",
      "Running Monte Carlo simulation number 380.\n",
      "Running Monte Carlo simulation number 390.\n",
      "Running Monte Carlo simulation number 400.\n",
      "Running Monte Carlo simulation number 410.\n",
      "Running Monte Carlo simulation number 420.\n",
      "Running Monte Carlo simulation number 430.\n",
      "Running Monte Carlo simulation number 440.\n",
      "Running Monte Carlo simulation number 450.\n",
      "Running Monte Carlo simulation number 460.\n",
      "Running Monte Carlo simulation number 470.\n",
      "Running Monte Carlo simulation number 480.\n",
      "Running Monte Carlo simulation number 490.\n"
     ]
    },
    {
     "data": {
      "text/html": [
       "<div>\n",
       "<style scoped>\n",
       "    .dataframe tbody tr th:only-of-type {\n",
       "        vertical-align: middle;\n",
       "    }\n",
       "\n",
       "    .dataframe tbody tr th {\n",
       "        vertical-align: top;\n",
       "    }\n",
       "\n",
       "    .dataframe thead th {\n",
       "        text-align: right;\n",
       "    }\n",
       "</style>\n",
       "<table border=\"1\" class=\"dataframe\">\n",
       "  <thead>\n",
       "    <tr style=\"text-align: right;\">\n",
       "      <th></th>\n",
       "      <th>0</th>\n",
       "      <th>1</th>\n",
       "      <th>2</th>\n",
       "      <th>3</th>\n",
       "      <th>4</th>\n",
       "      <th>5</th>\n",
       "      <th>6</th>\n",
       "      <th>7</th>\n",
       "      <th>8</th>\n",
       "      <th>9</th>\n",
       "      <th>...</th>\n",
       "      <th>490</th>\n",
       "      <th>491</th>\n",
       "      <th>492</th>\n",
       "      <th>493</th>\n",
       "      <th>494</th>\n",
       "      <th>495</th>\n",
       "      <th>496</th>\n",
       "      <th>497</th>\n",
       "      <th>498</th>\n",
       "      <th>499</th>\n",
       "    </tr>\n",
       "  </thead>\n",
       "  <tbody>\n",
       "    <tr>\n",
       "      <th>0</th>\n",
       "      <td>1.000000</td>\n",
       "      <td>1.000000</td>\n",
       "      <td>1.000000</td>\n",
       "      <td>1.000000</td>\n",
       "      <td>1.000000</td>\n",
       "      <td>1.000000</td>\n",
       "      <td>1.000000</td>\n",
       "      <td>1.000000</td>\n",
       "      <td>1.000000</td>\n",
       "      <td>1.000000</td>\n",
       "      <td>...</td>\n",
       "      <td>1.000000</td>\n",
       "      <td>1.000000</td>\n",
       "      <td>1.000000</td>\n",
       "      <td>1.000000</td>\n",
       "      <td>1.000000</td>\n",
       "      <td>1.000000</td>\n",
       "      <td>1.000000</td>\n",
       "      <td>1.000000</td>\n",
       "      <td>1.000000</td>\n",
       "      <td>1.000000</td>\n",
       "    </tr>\n",
       "    <tr>\n",
       "      <th>1</th>\n",
       "      <td>1.018575</td>\n",
       "      <td>1.010660</td>\n",
       "      <td>1.011429</td>\n",
       "      <td>1.001640</td>\n",
       "      <td>0.984132</td>\n",
       "      <td>1.002209</td>\n",
       "      <td>1.014654</td>\n",
       "      <td>0.973168</td>\n",
       "      <td>1.000639</td>\n",
       "      <td>0.996800</td>\n",
       "      <td>...</td>\n",
       "      <td>1.001832</td>\n",
       "      <td>0.981920</td>\n",
       "      <td>0.986142</td>\n",
       "      <td>0.991532</td>\n",
       "      <td>1.009943</td>\n",
       "      <td>1.002782</td>\n",
       "      <td>1.012902</td>\n",
       "      <td>0.998285</td>\n",
       "      <td>0.991411</td>\n",
       "      <td>0.985394</td>\n",
       "    </tr>\n",
       "    <tr>\n",
       "      <th>2</th>\n",
       "      <td>1.024687</td>\n",
       "      <td>1.019824</td>\n",
       "      <td>1.016839</td>\n",
       "      <td>0.994608</td>\n",
       "      <td>0.988083</td>\n",
       "      <td>1.004502</td>\n",
       "      <td>1.001141</td>\n",
       "      <td>0.978446</td>\n",
       "      <td>1.003585</td>\n",
       "      <td>1.015571</td>\n",
       "      <td>...</td>\n",
       "      <td>0.997636</td>\n",
       "      <td>0.985850</td>\n",
       "      <td>0.984532</td>\n",
       "      <td>0.998526</td>\n",
       "      <td>1.006423</td>\n",
       "      <td>0.975217</td>\n",
       "      <td>1.017940</td>\n",
       "      <td>0.988957</td>\n",
       "      <td>0.986541</td>\n",
       "      <td>0.986344</td>\n",
       "    </tr>\n",
       "    <tr>\n",
       "      <th>3</th>\n",
       "      <td>1.013018</td>\n",
       "      <td>1.022807</td>\n",
       "      <td>1.010072</td>\n",
       "      <td>1.006872</td>\n",
       "      <td>0.998102</td>\n",
       "      <td>1.010680</td>\n",
       "      <td>1.003348</td>\n",
       "      <td>0.981739</td>\n",
       "      <td>0.985333</td>\n",
       "      <td>1.020300</td>\n",
       "      <td>...</td>\n",
       "      <td>1.003891</td>\n",
       "      <td>0.981101</td>\n",
       "      <td>0.994573</td>\n",
       "      <td>1.005313</td>\n",
       "      <td>1.012462</td>\n",
       "      <td>0.988341</td>\n",
       "      <td>1.012791</td>\n",
       "      <td>1.005390</td>\n",
       "      <td>0.994823</td>\n",
       "      <td>0.994177</td>\n",
       "    </tr>\n",
       "    <tr>\n",
       "      <th>4</th>\n",
       "      <td>1.002163</td>\n",
       "      <td>1.030906</td>\n",
       "      <td>1.003293</td>\n",
       "      <td>1.004308</td>\n",
       "      <td>1.013847</td>\n",
       "      <td>1.003483</td>\n",
       "      <td>1.000269</td>\n",
       "      <td>0.985893</td>\n",
       "      <td>0.986884</td>\n",
       "      <td>1.018941</td>\n",
       "      <td>...</td>\n",
       "      <td>1.006631</td>\n",
       "      <td>0.993206</td>\n",
       "      <td>0.994483</td>\n",
       "      <td>1.012997</td>\n",
       "      <td>0.999675</td>\n",
       "      <td>0.983196</td>\n",
       "      <td>1.022328</td>\n",
       "      <td>1.019901</td>\n",
       "      <td>0.999862</td>\n",
       "      <td>0.996941</td>\n",
       "    </tr>\n",
       "    <tr>\n",
       "      <th>...</th>\n",
       "      <td>...</td>\n",
       "      <td>...</td>\n",
       "      <td>...</td>\n",
       "      <td>...</td>\n",
       "      <td>...</td>\n",
       "      <td>...</td>\n",
       "      <td>...</td>\n",
       "      <td>...</td>\n",
       "      <td>...</td>\n",
       "      <td>...</td>\n",
       "      <td>...</td>\n",
       "      <td>...</td>\n",
       "      <td>...</td>\n",
       "      <td>...</td>\n",
       "      <td>...</td>\n",
       "      <td>...</td>\n",
       "      <td>...</td>\n",
       "      <td>...</td>\n",
       "      <td>...</td>\n",
       "      <td>...</td>\n",
       "      <td>...</td>\n",
       "    </tr>\n",
       "    <tr>\n",
       "      <th>7556</th>\n",
       "      <td>51.804791</td>\n",
       "      <td>5.176924</td>\n",
       "      <td>15.434152</td>\n",
       "      <td>23.594347</td>\n",
       "      <td>24.695369</td>\n",
       "      <td>30.721700</td>\n",
       "      <td>11.252174</td>\n",
       "      <td>24.976236</td>\n",
       "      <td>15.935405</td>\n",
       "      <td>15.867459</td>\n",
       "      <td>...</td>\n",
       "      <td>46.670913</td>\n",
       "      <td>33.773561</td>\n",
       "      <td>20.260514</td>\n",
       "      <td>54.598906</td>\n",
       "      <td>24.631960</td>\n",
       "      <td>29.892634</td>\n",
       "      <td>29.324497</td>\n",
       "      <td>27.681330</td>\n",
       "      <td>53.679695</td>\n",
       "      <td>27.873581</td>\n",
       "    </tr>\n",
       "    <tr>\n",
       "      <th>7557</th>\n",
       "      <td>51.956610</td>\n",
       "      <td>5.116065</td>\n",
       "      <td>15.323969</td>\n",
       "      <td>23.555565</td>\n",
       "      <td>24.576392</td>\n",
       "      <td>31.066698</td>\n",
       "      <td>11.411273</td>\n",
       "      <td>24.937193</td>\n",
       "      <td>15.794518</td>\n",
       "      <td>16.108007</td>\n",
       "      <td>...</td>\n",
       "      <td>46.215611</td>\n",
       "      <td>33.977532</td>\n",
       "      <td>20.123078</td>\n",
       "      <td>54.583342</td>\n",
       "      <td>24.668019</td>\n",
       "      <td>29.514347</td>\n",
       "      <td>29.568014</td>\n",
       "      <td>27.697720</td>\n",
       "      <td>53.768220</td>\n",
       "      <td>28.106893</td>\n",
       "    </tr>\n",
       "    <tr>\n",
       "      <th>7558</th>\n",
       "      <td>52.055878</td>\n",
       "      <td>5.088250</td>\n",
       "      <td>15.625164</td>\n",
       "      <td>24.128286</td>\n",
       "      <td>24.621444</td>\n",
       "      <td>30.825538</td>\n",
       "      <td>11.507918</td>\n",
       "      <td>25.010589</td>\n",
       "      <td>15.994277</td>\n",
       "      <td>16.167103</td>\n",
       "      <td>...</td>\n",
       "      <td>45.983255</td>\n",
       "      <td>33.899239</td>\n",
       "      <td>20.250952</td>\n",
       "      <td>54.297299</td>\n",
       "      <td>24.825788</td>\n",
       "      <td>29.656293</td>\n",
       "      <td>29.611881</td>\n",
       "      <td>27.862879</td>\n",
       "      <td>53.446495</td>\n",
       "      <td>28.145851</td>\n",
       "    </tr>\n",
       "    <tr>\n",
       "      <th>7559</th>\n",
       "      <td>52.093029</td>\n",
       "      <td>5.119101</td>\n",
       "      <td>15.367593</td>\n",
       "      <td>24.209227</td>\n",
       "      <td>24.714290</td>\n",
       "      <td>31.427415</td>\n",
       "      <td>11.416688</td>\n",
       "      <td>25.115088</td>\n",
       "      <td>15.840126</td>\n",
       "      <td>16.075029</td>\n",
       "      <td>...</td>\n",
       "      <td>45.847131</td>\n",
       "      <td>33.814882</td>\n",
       "      <td>20.122380</td>\n",
       "      <td>53.937167</td>\n",
       "      <td>24.732686</td>\n",
       "      <td>29.924616</td>\n",
       "      <td>29.898371</td>\n",
       "      <td>27.852591</td>\n",
       "      <td>53.547159</td>\n",
       "      <td>28.298094</td>\n",
       "    </tr>\n",
       "    <tr>\n",
       "      <th>7560</th>\n",
       "      <td>51.828811</td>\n",
       "      <td>5.115364</td>\n",
       "      <td>15.427964</td>\n",
       "      <td>24.271174</td>\n",
       "      <td>24.412582</td>\n",
       "      <td>31.195232</td>\n",
       "      <td>11.337321</td>\n",
       "      <td>25.134172</td>\n",
       "      <td>15.836426</td>\n",
       "      <td>16.284290</td>\n",
       "      <td>...</td>\n",
       "      <td>45.581600</td>\n",
       "      <td>33.551116</td>\n",
       "      <td>20.167012</td>\n",
       "      <td>53.481477</td>\n",
       "      <td>24.656330</td>\n",
       "      <td>29.758046</td>\n",
       "      <td>29.760446</td>\n",
       "      <td>27.730713</td>\n",
       "      <td>52.813040</td>\n",
       "      <td>28.043696</td>\n",
       "    </tr>\n",
       "  </tbody>\n",
       "</table>\n",
       "<p>7561 rows × 500 columns</p>\n",
       "</div>"
      ],
      "text/plain": [
       "            0         1          2          3          4          5    \\\n",
       "0      1.000000  1.000000   1.000000   1.000000   1.000000   1.000000   \n",
       "1      1.018575  1.010660   1.011429   1.001640   0.984132   1.002209   \n",
       "2      1.024687  1.019824   1.016839   0.994608   0.988083   1.004502   \n",
       "3      1.013018  1.022807   1.010072   1.006872   0.998102   1.010680   \n",
       "4      1.002163  1.030906   1.003293   1.004308   1.013847   1.003483   \n",
       "...         ...       ...        ...        ...        ...        ...   \n",
       "7556  51.804791  5.176924  15.434152  23.594347  24.695369  30.721700   \n",
       "7557  51.956610  5.116065  15.323969  23.555565  24.576392  31.066698   \n",
       "7558  52.055878  5.088250  15.625164  24.128286  24.621444  30.825538   \n",
       "7559  52.093029  5.119101  15.367593  24.209227  24.714290  31.427415   \n",
       "7560  51.828811  5.115364  15.427964  24.271174  24.412582  31.195232   \n",
       "\n",
       "            6          7          8          9    ...        490        491  \\\n",
       "0      1.000000   1.000000   1.000000   1.000000  ...   1.000000   1.000000   \n",
       "1      1.014654   0.973168   1.000639   0.996800  ...   1.001832   0.981920   \n",
       "2      1.001141   0.978446   1.003585   1.015571  ...   0.997636   0.985850   \n",
       "3      1.003348   0.981739   0.985333   1.020300  ...   1.003891   0.981101   \n",
       "4      1.000269   0.985893   0.986884   1.018941  ...   1.006631   0.993206   \n",
       "...         ...        ...        ...        ...  ...        ...        ...   \n",
       "7556  11.252174  24.976236  15.935405  15.867459  ...  46.670913  33.773561   \n",
       "7557  11.411273  24.937193  15.794518  16.108007  ...  46.215611  33.977532   \n",
       "7558  11.507918  25.010589  15.994277  16.167103  ...  45.983255  33.899239   \n",
       "7559  11.416688  25.115088  15.840126  16.075029  ...  45.847131  33.814882   \n",
       "7560  11.337321  25.134172  15.836426  16.284290  ...  45.581600  33.551116   \n",
       "\n",
       "            492        493        494        495        496        497  \\\n",
       "0      1.000000   1.000000   1.000000   1.000000   1.000000   1.000000   \n",
       "1      0.986142   0.991532   1.009943   1.002782   1.012902   0.998285   \n",
       "2      0.984532   0.998526   1.006423   0.975217   1.017940   0.988957   \n",
       "3      0.994573   1.005313   1.012462   0.988341   1.012791   1.005390   \n",
       "4      0.994483   1.012997   0.999675   0.983196   1.022328   1.019901   \n",
       "...         ...        ...        ...        ...        ...        ...   \n",
       "7556  20.260514  54.598906  24.631960  29.892634  29.324497  27.681330   \n",
       "7557  20.123078  54.583342  24.668019  29.514347  29.568014  27.697720   \n",
       "7558  20.250952  54.297299  24.825788  29.656293  29.611881  27.862879   \n",
       "7559  20.122380  53.937167  24.732686  29.924616  29.898371  27.852591   \n",
       "7560  20.167012  53.481477  24.656330  29.758046  29.760446  27.730713   \n",
       "\n",
       "            498        499  \n",
       "0      1.000000   1.000000  \n",
       "1      0.991411   0.985394  \n",
       "2      0.986541   0.986344  \n",
       "3      0.994823   0.994177  \n",
       "4      0.999862   0.996941  \n",
       "...         ...        ...  \n",
       "7556  53.679695  27.873581  \n",
       "7557  53.768220  28.106893  \n",
       "7558  53.446495  28.145851  \n",
       "7559  53.547159  28.298094  \n",
       "7560  52.813040  28.043696  \n",
       "\n",
       "[7561 rows x 500 columns]"
      ]
     },
     "execution_count": 31,
     "metadata": {},
     "output_type": "execute_result"
    }
   ],
   "source": [
    "# Run the Monte Carlo simulation to forecast 30 years cumulative returns\n",
    "print('Running MC Simulation over 30 year period.')\n",
    "MC_30year.calc_cumulative_return()\n"
   ]
  },
  {
   "cell_type": "code",
   "execution_count": 32,
   "metadata": {},
   "outputs": [
    {
     "data": {
      "image/png": "[encoded data removed]",
      "text/plain": [
       "<Figure size 432x288 with 1 Axes>"
      ]
     },
     "metadata": {
      "needs_background": "light"
     },
     "output_type": "display_data"
    }
   ],
   "source": [
    "# Visualize the 30-year Monte Carlo simulation by creating an\n",
    "# overlay line plot\n",
    "MC_30year_sim_line_plot = MC_30year.plot_simulation()\n"
   ]
  },
  {
   "cell_type": "markdown",
   "metadata": {},
   "source": [
    "#### Step 3: Plot the probability distribution of the Monte Carlo simulation."
   ]
  },
  {
   "cell_type": "code",
   "execution_count": 33,
   "metadata": {},
   "outputs": [
    {
     "data": {
      "image/png": "[encoded data removed]",
      "text/plain": [
       "<Figure size 432x288 with 1 Axes>"
      ]
     },
     "metadata": {
      "needs_background": "light"
     },
     "output_type": "display_data"
    }
   ],
   "source": [
    "# Visualize the probability distribution of the 30-year Monte Carlo simulation \n",
    "# by plotting a histogram\n",
    "MC_30year_sim_dist_plot = MC_30year.plot_distribution()\n"
   ]
  },
  {
   "cell_type": "markdown",
   "metadata": {},
   "source": [
    "#### Step 4: Generate the summary statistics for the Monte Carlo simulation."
   ]
  },
  {
   "cell_type": "code",
   "execution_count": 34,
   "metadata": {},
   "outputs": [
    {
     "name": "stdout",
     "output_type": "stream",
     "text": [
      "The following series is a summarization on the Monte Carlo Simulation ran on the Stocks/Bond Portfolio.\n",
      "count           500.000000\n",
      "mean             39.891922\n",
      "std              32.099597\n",
      "min               2.996335\n",
      "25%              20.042677\n",
      "50%              30.556414\n",
      "75%              49.157611\n",
      "max             256.838636\n",
      "95% CI Lower      7.975479\n",
      "95% CI Upper    122.354394\n",
      "Name: 7560, dtype: float64\n",
      "-----\n"
     ]
    }
   ],
   "source": [
    "# Generate summary statistics from the 30-year Monte Carlo simulation results\n",
    "# Save the results as a variable\n",
    "MC_30year_summary_statistics = MC_30year.summarize_cumulative_return()\n",
    "\n",
    "\n",
    "# Review the 30-year Monte Carlo summary statistics\n",
    "print(f\"The following series is a summarization on the Monte Carlo Simulation ran on the Stocks/Bond Portfolio.\")\n",
    "print(MC_30year_summary_statistics)\n",
    "print('-----')"
   ]
  },
  {
   "cell_type": "markdown",
   "metadata": {},
   "source": [
    "### Analyze the Retirement Portfolio Forecasts\n",
    "\n",
    "Using the current value of only the stock and bond portion of the member's portfolio and the summary statistics that you generated from the Monte Carlo simulation, answer the following question in your Jupyter notebook:\n",
    "\n",
    "-  What are the lower and upper bounds for the expected value of the portfolio with a 95% confidence interval?\n"
   ]
  },
  {
   "cell_type": "code",
   "execution_count": 35,
   "metadata": {},
   "outputs": [
    {
     "name": "stdout",
     "output_type": "stream",
     "text": [
      "$70973.20\n",
      "-----\n"
     ]
    }
   ],
   "source": [
    "# Print the current balance of the stock and bond portion of the members portfolio\n",
    "print(f\"${total_stocks_bonds:.2f}\")\n",
    "print('-----')"
   ]
  },
  {
   "cell_type": "code",
   "execution_count": 36,
   "metadata": {},
   "outputs": [
    {
     "name": "stdout",
     "output_type": "stream",
     "text": [
      "With 95% confidence, the lower and upper bounds for the expected value of the portfolio is  $566045.27 and $8683882.84 in 30 years.\n",
      "-----\n"
     ]
    }
   ],
   "source": [
    "# Use the lower and upper `95%` confidence intervals to calculate the range of the possible outcomes for the current stock/bond portfolio\n",
    "ci_lower_thirty_cumulative_return = round(MC_30year_summary_statistics[8]*total_stocks_bonds, 2)\n",
    "ci_upper_thirty_cumulative_return = round(MC_30year_summary_statistics[9]*total_stocks_bonds, 2)\n",
    "\n",
    "# Print the result of your calculations\n",
    "print(f\"With 95% confidence, the lower and upper bounds for the expected value of the portfolio is  ${ci_lower_thirty_cumulative_return:.2f} and ${ci_upper_thirty_cumulative_return} in 30 years.\")\n",
    "print('-----')\n"
   ]
  },
  {
   "cell_type": "markdown",
   "metadata": {},
   "source": [
    "### Forecast Cumulative Returns in 10 Years\n",
    "\n",
    "The CTO of the credit union is impressed with your work on these planning tools but wonders if 30 years is a long time to wait until retirement. So, your next task is to adjust the retirement portfolio and run a new Monte Carlo simulation to find out if the changes will allow members to retire earlier.\n",
    "\n",
    "For this new Monte Carlo simulation, do the following: \n",
    "\n",
    "- Forecast the cumulative returns for 10 years from now. Because of the shortened investment horizon (30 years to 10 years), the portfolio needs to invest more heavily in the riskier asset&mdash;that is, stock&mdash;to help accumulate wealth for retirement. \n",
    "\n",
    "- Adjust the weights of the retirement portfolio so that the composition for the Monte Carlo simulation consists of 20% bonds and 80% stocks. \n",
    "\n",
    "- Run the simulation over 500 samples, and use the same data that the API call to Alpaca generated.\n",
    "\n",
    "- Based on the new Monte Carlo simulation, answer the following questions in your Jupyter notebook:\n",
    "\n",
    "    - Using the current value of only the stock and bond portion of the member's portfolio and the summary statistics that you generated from the new Monte Carlo simulation, what are the lower and upper bounds for the expected value of the portfolio (with the new weights) with a 95% confidence interval?\n",
    "\n",
    "    - Will weighting the portfolio more heavily toward stocks allow the credit union members to retire after only 10 years?\n"
   ]
  },
  {
   "cell_type": "code",
   "execution_count": 37,
   "metadata": {},
   "outputs": [
    {
     "name": "stdout",
     "output_type": "stream",
     "text": [
      "The following DataFrame is a preview of the data used for the MCSimulation over 10 years.\n"
     ]
    },
    {
     "data": {
      "text/html": [
       "<div>\n",
       "<style scoped>\n",
       "    .dataframe tbody tr th:only-of-type {\n",
       "        vertical-align: middle;\n",
       "    }\n",
       "\n",
       "    .dataframe tbody tr th {\n",
       "        vertical-align: top;\n",
       "    }\n",
       "\n",
       "    .dataframe thead tr th {\n",
       "        text-align: left;\n",
       "    }\n",
       "\n",
       "    .dataframe thead tr:last-of-type th {\n",
       "        text-align: right;\n",
       "    }\n",
       "</style>\n",
       "<table border=\"1\" class=\"dataframe\">\n",
       "  <thead>\n",
       "    <tr>\n",
       "      <th></th>\n",
       "      <th colspan=\"6\" halign=\"left\">AGG</th>\n",
       "      <th colspan=\"6\" halign=\"left\">SPY</th>\n",
       "    </tr>\n",
       "    <tr>\n",
       "      <th></th>\n",
       "      <th>open</th>\n",
       "      <th>high</th>\n",
       "      <th>low</th>\n",
       "      <th>close</th>\n",
       "      <th>volume</th>\n",
       "      <th>daily_return</th>\n",
       "      <th>open</th>\n",
       "      <th>high</th>\n",
       "      <th>low</th>\n",
       "      <th>close</th>\n",
       "      <th>volume</th>\n",
       "      <th>daily_return</th>\n",
       "    </tr>\n",
       "    <tr>\n",
       "      <th>time</th>\n",
       "      <th></th>\n",
       "      <th></th>\n",
       "      <th></th>\n",
       "      <th></th>\n",
       "      <th></th>\n",
       "      <th></th>\n",
       "      <th></th>\n",
       "      <th></th>\n",
       "      <th></th>\n",
       "      <th></th>\n",
       "      <th></th>\n",
       "      <th></th>\n",
       "    </tr>\n",
       "  </thead>\n",
       "  <tbody>\n",
       "    <tr>\n",
       "      <th>2019-01-31 00:00:00-05:00</th>\n",
       "      <td>107.30</td>\n",
       "      <td>107.53</td>\n",
       "      <td>107.290</td>\n",
       "      <td>107.4600</td>\n",
       "      <td>11394113</td>\n",
       "      <td>NaN</td>\n",
       "      <td>267.51</td>\n",
       "      <td>270.47</td>\n",
       "      <td>267.27</td>\n",
       "      <td>270.2325</td>\n",
       "      <td>73699733</td>\n",
       "      <td>NaN</td>\n",
       "    </tr>\n",
       "    <tr>\n",
       "      <th>2019-02-01 00:00:00-05:00</th>\n",
       "      <td>107.09</td>\n",
       "      <td>107.15</td>\n",
       "      <td>106.880</td>\n",
       "      <td>106.9600</td>\n",
       "      <td>5325410</td>\n",
       "      <td>-0.004653</td>\n",
       "      <td>270.15</td>\n",
       "      <td>271.20</td>\n",
       "      <td>269.18</td>\n",
       "      <td>270.0700</td>\n",
       "      <td>68194167</td>\n",
       "      <td>-0.000601</td>\n",
       "    </tr>\n",
       "    <tr>\n",
       "      <th>2019-02-04 00:00:00-05:00</th>\n",
       "      <td>106.83</td>\n",
       "      <td>106.90</td>\n",
       "      <td>106.770</td>\n",
       "      <td>106.8950</td>\n",
       "      <td>9790488</td>\n",
       "      <td>-0.000608</td>\n",
       "      <td>270.11</td>\n",
       "      <td>271.80</td>\n",
       "      <td>269.36</td>\n",
       "      <td>271.7800</td>\n",
       "      <td>46985797</td>\n",
       "      <td>0.006332</td>\n",
       "    </tr>\n",
       "    <tr>\n",
       "      <th>2019-02-05 00:00:00-05:00</th>\n",
       "      <td>106.95</td>\n",
       "      <td>107.14</td>\n",
       "      <td>106.950</td>\n",
       "      <td>107.0900</td>\n",
       "      <td>4918385</td>\n",
       "      <td>0.001824</td>\n",
       "      <td>272.44</td>\n",
       "      <td>273.44</td>\n",
       "      <td>271.88</td>\n",
       "      <td>273.1300</td>\n",
       "      <td>61540042</td>\n",
       "      <td>0.004967</td>\n",
       "    </tr>\n",
       "    <tr>\n",
       "      <th>2019-02-06 00:00:00-05:00</th>\n",
       "      <td>107.20</td>\n",
       "      <td>107.22</td>\n",
       "      <td>106.985</td>\n",
       "      <td>107.0441</td>\n",
       "      <td>6022187</td>\n",
       "      <td>-0.000429</td>\n",
       "      <td>272.79</td>\n",
       "      <td>273.34</td>\n",
       "      <td>271.92</td>\n",
       "      <td>272.7000</td>\n",
       "      <td>43446324</td>\n",
       "      <td>-0.001574</td>\n",
       "    </tr>\n",
       "  </tbody>\n",
       "</table>\n",
       "</div>"
      ],
      "text/plain": [
       "                              AGG                                       \\\n",
       "                             open    high      low     close    volume   \n",
       "time                                                                     \n",
       "2019-01-31 00:00:00-05:00  107.30  107.53  107.290  107.4600  11394113   \n",
       "2019-02-01 00:00:00-05:00  107.09  107.15  106.880  106.9600   5325410   \n",
       "2019-02-04 00:00:00-05:00  106.83  106.90  106.770  106.8950   9790488   \n",
       "2019-02-05 00:00:00-05:00  106.95  107.14  106.950  107.0900   4918385   \n",
       "2019-02-06 00:00:00-05:00  107.20  107.22  106.985  107.0441   6022187   \n",
       "\n",
       "                                           SPY                            \\\n",
       "                          daily_return    open    high     low     close   \n",
       "time                                                                       \n",
       "2019-01-31 00:00:00-05:00          NaN  267.51  270.47  267.27  270.2325   \n",
       "2019-02-01 00:00:00-05:00    -0.004653  270.15  271.20  269.18  270.0700   \n",
       "2019-02-04 00:00:00-05:00    -0.000608  270.11  271.80  269.36  271.7800   \n",
       "2019-02-05 00:00:00-05:00     0.001824  272.44  273.44  271.88  273.1300   \n",
       "2019-02-06 00:00:00-05:00    -0.000429  272.79  273.34  271.92  272.7000   \n",
       "\n",
       "                                                  \n",
       "                             volume daily_return  \n",
       "time                                              \n",
       "2019-01-31 00:00:00-05:00  73699733          NaN  \n",
       "2019-02-01 00:00:00-05:00  68194167    -0.000601  \n",
       "2019-02-04 00:00:00-05:00  46985797     0.006332  \n",
       "2019-02-05 00:00:00-05:00  61540042     0.004967  \n",
       "2019-02-06 00:00:00-05:00  43446324    -0.001574  "
      ]
     },
     "execution_count": 37,
     "metadata": {},
     "output_type": "execute_result"
    }
   ],
   "source": [
    "# Configure a Monte Carlo simulation to forecast 10 years cumulative returns\n",
    "# The weights should be split 20% to AGG and 80% to SPY.\n",
    "# Run 500 samples.\n",
    "MC_10year = MCSimulation(\n",
    "    portfolio_data = stock_portfolio_df,\n",
    "    weights = [0.20,0.80],\n",
    "    num_simulation = 500,\n",
    "    num_trading_days = 252*10\n",
    ")\n",
    "\n",
    "# Review the simulation input data\n",
    "print('The following DataFrame is a preview of the data used for the MCSimulation over 10 years.')\n",
    "MC_10year.portfolio_data.head()"
   ]
  },
  {
   "cell_type": "code",
   "execution_count": 38,
   "metadata": {},
   "outputs": [
    {
     "name": "stdout",
     "output_type": "stream",
     "text": [
      "Running MC Simulation for 10-year period.\n",
      "Running Monte Carlo simulation number 0.\n",
      "Running Monte Carlo simulation number 10.\n",
      "Running Monte Carlo simulation number 20.\n",
      "Running Monte Carlo simulation number 30.\n",
      "Running Monte Carlo simulation number 40.\n",
      "Running Monte Carlo simulation number 50.\n",
      "Running Monte Carlo simulation number 60.\n",
      "Running Monte Carlo simulation number 70.\n",
      "Running Monte Carlo simulation number 80.\n",
      "Running Monte Carlo simulation number 90.\n",
      "Running Monte Carlo simulation number 100.\n"
     ]
    },
    {
     "name": "stderr",
     "output_type": "stream",
     "text": [
      "C:\\Users\\dlpst\\OneDrive\\Documents\\UC_Berkeley_Blockchain_Bootcamp\\GitHub\\05_DLP_Financial_Planning_Tools\\MCForecastTools.py:117: PerformanceWarning: DataFrame is highly fragmented.  This is usually the result of calling `frame.insert` many times, which has poor performance.  Consider joining all columns at once using pd.concat(axis=1) instead.  To get a de-fragmented frame, use `newframe = frame.copy()`\n",
      "  portfolio_cumulative_returns[n] = (1 + sim_df.fillna(0)).cumprod()\n"
     ]
    },
    {
     "name": "stdout",
     "output_type": "stream",
     "text": [
      "Running Monte Carlo simulation number 110.\n",
      "Running Monte Carlo simulation number 120.\n",
      "Running Monte Carlo simulation number 130.\n",
      "Running Monte Carlo simulation number 140.\n",
      "Running Monte Carlo simulation number 150.\n",
      "Running Monte Carlo simulation number 160.\n",
      "Running Monte Carlo simulation number 170.\n",
      "Running Monte Carlo simulation number 180.\n",
      "Running Monte Carlo simulation number 190.\n",
      "Running Monte Carlo simulation number 200.\n",
      "Running Monte Carlo simulation number 210.\n",
      "Running Monte Carlo simulation number 220.\n",
      "Running Monte Carlo simulation number 230.\n",
      "Running Monte Carlo simulation number 240.\n",
      "Running Monte Carlo simulation number 250.\n",
      "Running Monte Carlo simulation number 260.\n",
      "Running Monte Carlo simulation number 270.\n",
      "Running Monte Carlo simulation number 280.\n",
      "Running Monte Carlo simulation number 290.\n",
      "Running Monte Carlo simulation number 300.\n",
      "Running Monte Carlo simulation number 310.\n",
      "Running Monte Carlo simulation number 320.\n",
      "Running Monte Carlo simulation number 330.\n",
      "Running Monte Carlo simulation number 340.\n",
      "Running Monte Carlo simulation number 350.\n",
      "Running Monte Carlo simulation number 360.\n",
      "Running Monte Carlo simulation number 370.\n",
      "Running Monte Carlo simulation number 380.\n",
      "Running Monte Carlo simulation number 390.\n",
      "Running Monte Carlo simulation number 400.\n",
      "Running Monte Carlo simulation number 410.\n",
      "Running Monte Carlo simulation number 420.\n",
      "Running Monte Carlo simulation number 430.\n",
      "Running Monte Carlo simulation number 440.\n",
      "Running Monte Carlo simulation number 450.\n",
      "Running Monte Carlo simulation number 460.\n",
      "Running Monte Carlo simulation number 470.\n",
      "Running Monte Carlo simulation number 480.\n",
      "Running Monte Carlo simulation number 490.\n"
     ]
    },
    {
     "data": {
      "text/html": [
       "<div>\n",
       "<style scoped>\n",
       "    .dataframe tbody tr th:only-of-type {\n",
       "        vertical-align: middle;\n",
       "    }\n",
       "\n",
       "    .dataframe tbody tr th {\n",
       "        vertical-align: top;\n",
       "    }\n",
       "\n",
       "    .dataframe thead th {\n",
       "        text-align: right;\n",
       "    }\n",
       "</style>\n",
       "<table border=\"1\" class=\"dataframe\">\n",
       "  <thead>\n",
       "    <tr style=\"text-align: right;\">\n",
       "      <th></th>\n",
       "      <th>0</th>\n",
       "      <th>1</th>\n",
       "      <th>2</th>\n",
       "      <th>3</th>\n",
       "      <th>4</th>\n",
       "      <th>5</th>\n",
       "      <th>6</th>\n",
       "      <th>7</th>\n",
       "      <th>8</th>\n",
       "      <th>9</th>\n",
       "      <th>...</th>\n",
       "      <th>490</th>\n",
       "      <th>491</th>\n",
       "      <th>492</th>\n",
       "      <th>493</th>\n",
       "      <th>494</th>\n",
       "      <th>495</th>\n",
       "      <th>496</th>\n",
       "      <th>497</th>\n",
       "      <th>498</th>\n",
       "      <th>499</th>\n",
       "    </tr>\n",
       "  </thead>\n",
       "  <tbody>\n",
       "    <tr>\n",
       "      <th>0</th>\n",
       "      <td>1.000000</td>\n",
       "      <td>1.000000</td>\n",
       "      <td>1.000000</td>\n",
       "      <td>1.000000</td>\n",
       "      <td>1.000000</td>\n",
       "      <td>1.000000</td>\n",
       "      <td>1.000000</td>\n",
       "      <td>1.000000</td>\n",
       "      <td>1.000000</td>\n",
       "      <td>1.000000</td>\n",
       "      <td>...</td>\n",
       "      <td>1.000000</td>\n",
       "      <td>1.000000</td>\n",
       "      <td>1.000000</td>\n",
       "      <td>1.000000</td>\n",
       "      <td>1.000000</td>\n",
       "      <td>1.000000</td>\n",
       "      <td>1.000000</td>\n",
       "      <td>1.000000</td>\n",
       "      <td>1.000000</td>\n",
       "      <td>1.000000</td>\n",
       "    </tr>\n",
       "    <tr>\n",
       "      <th>1</th>\n",
       "      <td>1.011937</td>\n",
       "      <td>0.997563</td>\n",
       "      <td>0.985945</td>\n",
       "      <td>1.001321</td>\n",
       "      <td>1.008791</td>\n",
       "      <td>1.024921</td>\n",
       "      <td>0.998757</td>\n",
       "      <td>1.009150</td>\n",
       "      <td>0.991802</td>\n",
       "      <td>0.985050</td>\n",
       "      <td>...</td>\n",
       "      <td>0.992391</td>\n",
       "      <td>0.986360</td>\n",
       "      <td>1.003643</td>\n",
       "      <td>0.995895</td>\n",
       "      <td>1.012626</td>\n",
       "      <td>0.995758</td>\n",
       "      <td>1.006426</td>\n",
       "      <td>0.990283</td>\n",
       "      <td>1.003758</td>\n",
       "      <td>0.994408</td>\n",
       "    </tr>\n",
       "    <tr>\n",
       "      <th>2</th>\n",
       "      <td>0.992278</td>\n",
       "      <td>0.996740</td>\n",
       "      <td>0.988540</td>\n",
       "      <td>0.990816</td>\n",
       "      <td>1.011627</td>\n",
       "      <td>1.028493</td>\n",
       "      <td>1.002450</td>\n",
       "      <td>0.985166</td>\n",
       "      <td>0.988380</td>\n",
       "      <td>0.985861</td>\n",
       "      <td>...</td>\n",
       "      <td>0.994673</td>\n",
       "      <td>0.992457</td>\n",
       "      <td>0.993655</td>\n",
       "      <td>1.002535</td>\n",
       "      <td>1.006835</td>\n",
       "      <td>0.995373</td>\n",
       "      <td>1.009258</td>\n",
       "      <td>1.005387</td>\n",
       "      <td>0.998000</td>\n",
       "      <td>0.996090</td>\n",
       "    </tr>\n",
       "    <tr>\n",
       "      <th>3</th>\n",
       "      <td>0.998977</td>\n",
       "      <td>1.006064</td>\n",
       "      <td>0.996957</td>\n",
       "      <td>0.956754</td>\n",
       "      <td>1.010907</td>\n",
       "      <td>1.017820</td>\n",
       "      <td>1.032335</td>\n",
       "      <td>0.978960</td>\n",
       "      <td>0.990311</td>\n",
       "      <td>0.984834</td>\n",
       "      <td>...</td>\n",
       "      <td>1.005682</td>\n",
       "      <td>0.986378</td>\n",
       "      <td>0.979963</td>\n",
       "      <td>1.021913</td>\n",
       "      <td>1.006445</td>\n",
       "      <td>1.010620</td>\n",
       "      <td>1.010076</td>\n",
       "      <td>1.019340</td>\n",
       "      <td>0.990595</td>\n",
       "      <td>0.996550</td>\n",
       "    </tr>\n",
       "    <tr>\n",
       "      <th>4</th>\n",
       "      <td>1.012707</td>\n",
       "      <td>1.006539</td>\n",
       "      <td>1.000852</td>\n",
       "      <td>0.956510</td>\n",
       "      <td>1.001446</td>\n",
       "      <td>1.022124</td>\n",
       "      <td>1.039645</td>\n",
       "      <td>0.991050</td>\n",
       "      <td>0.999631</td>\n",
       "      <td>0.980767</td>\n",
       "      <td>...</td>\n",
       "      <td>1.000486</td>\n",
       "      <td>0.990380</td>\n",
       "      <td>0.985484</td>\n",
       "      <td>1.028308</td>\n",
       "      <td>0.994315</td>\n",
       "      <td>1.031632</td>\n",
       "      <td>1.026302</td>\n",
       "      <td>1.032977</td>\n",
       "      <td>1.001689</td>\n",
       "      <td>0.999764</td>\n",
       "    </tr>\n",
       "    <tr>\n",
       "      <th>...</th>\n",
       "      <td>...</td>\n",
       "      <td>...</td>\n",
       "      <td>...</td>\n",
       "      <td>...</td>\n",
       "      <td>...</td>\n",
       "      <td>...</td>\n",
       "      <td>...</td>\n",
       "      <td>...</td>\n",
       "      <td>...</td>\n",
       "      <td>...</td>\n",
       "      <td>...</td>\n",
       "      <td>...</td>\n",
       "      <td>...</td>\n",
       "      <td>...</td>\n",
       "      <td>...</td>\n",
       "      <td>...</td>\n",
       "      <td>...</td>\n",
       "      <td>...</td>\n",
       "      <td>...</td>\n",
       "      <td>...</td>\n",
       "      <td>...</td>\n",
       "    </tr>\n",
       "    <tr>\n",
       "      <th>2516</th>\n",
       "      <td>3.826299</td>\n",
       "      <td>2.192616</td>\n",
       "      <td>2.652669</td>\n",
       "      <td>3.435944</td>\n",
       "      <td>5.126243</td>\n",
       "      <td>10.622176</td>\n",
       "      <td>4.949572</td>\n",
       "      <td>2.506877</td>\n",
       "      <td>5.067715</td>\n",
       "      <td>3.093637</td>\n",
       "      <td>...</td>\n",
       "      <td>2.371096</td>\n",
       "      <td>1.412495</td>\n",
       "      <td>1.841774</td>\n",
       "      <td>5.017636</td>\n",
       "      <td>3.765073</td>\n",
       "      <td>3.216672</td>\n",
       "      <td>2.545187</td>\n",
       "      <td>5.340665</td>\n",
       "      <td>4.665193</td>\n",
       "      <td>2.477240</td>\n",
       "    </tr>\n",
       "    <tr>\n",
       "      <th>2517</th>\n",
       "      <td>3.815561</td>\n",
       "      <td>2.204866</td>\n",
       "      <td>2.639627</td>\n",
       "      <td>3.465942</td>\n",
       "      <td>5.125569</td>\n",
       "      <td>10.743689</td>\n",
       "      <td>4.953043</td>\n",
       "      <td>2.536488</td>\n",
       "      <td>5.067002</td>\n",
       "      <td>3.151788</td>\n",
       "      <td>...</td>\n",
       "      <td>2.387939</td>\n",
       "      <td>1.441651</td>\n",
       "      <td>1.829267</td>\n",
       "      <td>5.044219</td>\n",
       "      <td>3.747222</td>\n",
       "      <td>3.203902</td>\n",
       "      <td>2.544724</td>\n",
       "      <td>5.304167</td>\n",
       "      <td>4.602560</td>\n",
       "      <td>2.462231</td>\n",
       "    </tr>\n",
       "    <tr>\n",
       "      <th>2518</th>\n",
       "      <td>3.823369</td>\n",
       "      <td>2.183922</td>\n",
       "      <td>2.666962</td>\n",
       "      <td>3.446894</td>\n",
       "      <td>5.081773</td>\n",
       "      <td>10.634340</td>\n",
       "      <td>5.040152</td>\n",
       "      <td>2.540901</td>\n",
       "      <td>5.073994</td>\n",
       "      <td>3.160190</td>\n",
       "      <td>...</td>\n",
       "      <td>2.409547</td>\n",
       "      <td>1.448123</td>\n",
       "      <td>1.842058</td>\n",
       "      <td>5.007570</td>\n",
       "      <td>3.739287</td>\n",
       "      <td>3.221216</td>\n",
       "      <td>2.568714</td>\n",
       "      <td>5.286308</td>\n",
       "      <td>4.581361</td>\n",
       "      <td>2.494207</td>\n",
       "    </tr>\n",
       "    <tr>\n",
       "      <th>2519</th>\n",
       "      <td>3.773641</td>\n",
       "      <td>2.202466</td>\n",
       "      <td>2.687517</td>\n",
       "      <td>3.482554</td>\n",
       "      <td>5.107691</td>\n",
       "      <td>10.706974</td>\n",
       "      <td>5.065377</td>\n",
       "      <td>2.540816</td>\n",
       "      <td>4.966577</td>\n",
       "      <td>3.135776</td>\n",
       "      <td>...</td>\n",
       "      <td>2.428848</td>\n",
       "      <td>1.460312</td>\n",
       "      <td>1.875324</td>\n",
       "      <td>4.986085</td>\n",
       "      <td>3.750783</td>\n",
       "      <td>3.193504</td>\n",
       "      <td>2.550065</td>\n",
       "      <td>5.272286</td>\n",
       "      <td>4.554963</td>\n",
       "      <td>2.508927</td>\n",
       "    </tr>\n",
       "    <tr>\n",
       "      <th>2520</th>\n",
       "      <td>3.831956</td>\n",
       "      <td>2.184850</td>\n",
       "      <td>2.662886</td>\n",
       "      <td>3.466922</td>\n",
       "      <td>5.122257</td>\n",
       "      <td>10.632678</td>\n",
       "      <td>5.005108</td>\n",
       "      <td>2.488358</td>\n",
       "      <td>4.926430</td>\n",
       "      <td>3.177142</td>\n",
       "      <td>...</td>\n",
       "      <td>2.497919</td>\n",
       "      <td>1.474129</td>\n",
       "      <td>1.905721</td>\n",
       "      <td>4.929052</td>\n",
       "      <td>3.674820</td>\n",
       "      <td>3.161772</td>\n",
       "      <td>2.546094</td>\n",
       "      <td>5.289312</td>\n",
       "      <td>4.595858</td>\n",
       "      <td>2.495439</td>\n",
       "    </tr>\n",
       "  </tbody>\n",
       "</table>\n",
       "<p>2521 rows × 500 columns</p>\n",
       "</div>"
      ],
      "text/plain": [
       "           0         1         2         3         4          5         6    \\\n",
       "0     1.000000  1.000000  1.000000  1.000000  1.000000   1.000000  1.000000   \n",
       "1     1.011937  0.997563  0.985945  1.001321  1.008791   1.024921  0.998757   \n",
       "2     0.992278  0.996740  0.988540  0.990816  1.011627   1.028493  1.002450   \n",
       "3     0.998977  1.006064  0.996957  0.956754  1.010907   1.017820  1.032335   \n",
       "4     1.012707  1.006539  1.000852  0.956510  1.001446   1.022124  1.039645   \n",
       "...        ...       ...       ...       ...       ...        ...       ...   \n",
       "2516  3.826299  2.192616  2.652669  3.435944  5.126243  10.622176  4.949572   \n",
       "2517  3.815561  2.204866  2.639627  3.465942  5.125569  10.743689  4.953043   \n",
       "2518  3.823369  2.183922  2.666962  3.446894  5.081773  10.634340  5.040152   \n",
       "2519  3.773641  2.202466  2.687517  3.482554  5.107691  10.706974  5.065377   \n",
       "2520  3.831956  2.184850  2.662886  3.466922  5.122257  10.632678  5.005108   \n",
       "\n",
       "           7         8         9    ...       490       491       492  \\\n",
       "0     1.000000  1.000000  1.000000  ...  1.000000  1.000000  1.000000   \n",
       "1     1.009150  0.991802  0.985050  ...  0.992391  0.986360  1.003643   \n",
       "2     0.985166  0.988380  0.985861  ...  0.994673  0.992457  0.993655   \n",
       "3     0.978960  0.990311  0.984834  ...  1.005682  0.986378  0.979963   \n",
       "4     0.991050  0.999631  0.980767  ...  1.000486  0.990380  0.985484   \n",
       "...        ...       ...       ...  ...       ...       ...       ...   \n",
       "2516  2.506877  5.067715  3.093637  ...  2.371096  1.412495  1.841774   \n",
       "2517  2.536488  5.067002  3.151788  ...  2.387939  1.441651  1.829267   \n",
       "2518  2.540901  5.073994  3.160190  ...  2.409547  1.448123  1.842058   \n",
       "2519  2.540816  4.966577  3.135776  ...  2.428848  1.460312  1.875324   \n",
       "2520  2.488358  4.926430  3.177142  ...  2.497919  1.474129  1.905721   \n",
       "\n",
       "           493       494       495       496       497       498       499  \n",
       "0     1.000000  1.000000  1.000000  1.000000  1.000000  1.000000  1.000000  \n",
       "1     0.995895  1.012626  0.995758  1.006426  0.990283  1.003758  0.994408  \n",
       "2     1.002535  1.006835  0.995373  1.009258  1.005387  0.998000  0.996090  \n",
       "3     1.021913  1.006445  1.010620  1.010076  1.019340  0.990595  0.996550  \n",
       "4     1.028308  0.994315  1.031632  1.026302  1.032977  1.001689  0.999764  \n",
       "...        ...       ...       ...       ...       ...       ...       ...  \n",
       "2516  5.017636  3.765073  3.216672  2.545187  5.340665  4.665193  2.477240  \n",
       "2517  5.044219  3.747222  3.203902  2.544724  5.304167  4.602560  2.462231  \n",
       "2518  5.007570  3.739287  3.221216  2.568714  5.286308  4.581361  2.494207  \n",
       "2519  4.986085  3.750783  3.193504  2.550065  5.272286  4.554963  2.508927  \n",
       "2520  4.929052  3.674820  3.161772  2.546094  5.289312  4.595858  2.495439  \n",
       "\n",
       "[2521 rows x 500 columns]"
      ]
     },
     "execution_count": 38,
     "metadata": {},
     "output_type": "execute_result"
    }
   ],
   "source": [
    "# Run the Monte Carlo simulation to forecast 10 years cumulative returns\n",
    "print('Running MC Simulation for 10-year period.')\n",
    "MC_10year.calc_cumulative_return()"
   ]
  },
  {
   "cell_type": "code",
   "execution_count": 39,
   "metadata": {},
   "outputs": [
    {
     "data": {
      "image/png": "[encoded data removed]",
      "text/plain": [
       "<Figure size 432x288 with 1 Axes>"
      ]
     },
     "metadata": {
      "needs_background": "light"
     },
     "output_type": "display_data"
    }
   ],
   "source": [
    "# Visualize the 10-year Monte Carlo simulation by creating an\n",
    "# overlay line plot\n",
    "MC_10year_sim_line_plot = MC_10year.plot_simulation()\n"
   ]
  },
  {
   "cell_type": "code",
   "execution_count": 40,
   "metadata": {},
   "outputs": [
    {
     "data": {
      "image/png": "[encoded data removed]",
      "text/plain": [
       "<Figure size 432x288 with 1 Axes>"
      ]
     },
     "metadata": {
      "needs_background": "light"
     },
     "output_type": "display_data"
    }
   ],
   "source": [
    "# Visualize the probability distribution of the 10-year Monte Carlo simulation \n",
    "# by plotting a histogram\n",
    "MC_10year_sim_dist_plot = MC_10year.plot_distribution()\n"
   ]
  },
  {
   "cell_type": "code",
   "execution_count": 41,
   "metadata": {},
   "outputs": [
    {
     "name": "stdout",
     "output_type": "stream",
     "text": [
      "The following data shows the summary statistics for the MC 10-year Simulation.\n",
      "count           500.000000\n",
      "mean              5.000485\n",
      "std               2.948295\n",
      "min               0.560321\n",
      "25%               2.902412\n",
      "50%               4.348276\n",
      "75%               6.218792\n",
      "max              19.200600\n",
      "95% CI Lower      1.366897\n",
      "95% CI Upper     13.111658\n",
      "Name: 2520, dtype: float64\n"
     ]
    }
   ],
   "source": [
    "# Generate summary statistics from the 10-year Monte Carlo simulation results\n",
    "# Save the results as a variable\n",
    "MC_10year_summary_statistics = MC_10year.summarize_cumulative_return()\n",
    "\n",
    "\n",
    "# Review the 10-year Monte Carlo summary statistics\n",
    "print('The following data shows the summary statistics for the MC 10-year Simulation.')\n",
    "print(MC_10year_summary_statistics)"
   ]
  },
  {
   "cell_type": "markdown",
   "metadata": {},
   "source": [
    "### Answer the following questions:"
   ]
  },
  {
   "cell_type": "markdown",
   "metadata": {},
   "source": [
    "#### Question: Using the current value of only the stock and bond portion of the member's portfolio and the summary statistics that you generated from the new Monte Carlo simulation, what are the lower and upper bounds for the expected value of the portfolio (with the new weights) with a 95% confidence interval?"
   ]
  },
  {
   "cell_type": "code",
   "execution_count": 42,
   "metadata": {},
   "outputs": [
    {
     "name": "stdout",
     "output_type": "stream",
     "text": [
      "$70973.20\n",
      "-----\n"
     ]
    }
   ],
   "source": [
    "# Print the current balance of the stock and bond portion of the members portfolio\n",
    "print(f\"${total_stocks_bonds:.2f}\")\n",
    "print('-----')\n"
   ]
  },
  {
   "cell_type": "code",
   "execution_count": 43,
   "metadata": {},
   "outputs": [
    {
     "name": "stdout",
     "output_type": "stream",
     "text": [
      "With 95% confidence, the lower and upper bounds for the expected value of the portfolio is  $97013.08 and $930576.31 in 10 years.\n",
      "-----\n"
     ]
    }
   ],
   "source": [
    "# Use the lower and upper `95%` confidence intervals to calculate the range of the possible outcomes for the current stock/bond portfolio\n",
    "ci_lower_ten_cumulative_return = round(MC_10year_summary_statistics[8]*total_stocks_bonds, 2)\n",
    "ci_upper_ten_cumulative_return = round(MC_10year_summary_statistics[9]*total_stocks_bonds, 2)\n",
    "\n",
    "# Print the result of your calculations\n",
    "print(f\"With 95% confidence, the lower and upper bounds for the expected value of the portfolio is  ${ci_lower_ten_cumulative_return:.2f} and ${ci_upper_ten_cumulative_return} in 10 years.\")\n",
    "print('-----')\n"
   ]
  },
  {
   "cell_type": "markdown",
   "metadata": {},
   "source": [
    "#### Question: Will weighting the portfolio more heavily to stocks allow the credit union members to retire after only 10 years?"
   ]
  },
  {
   "cell_type": "raw",
   "metadata": {},
   "source": [
    "**Answer** # Weighing the portfolio more heavily into stocks will not allow the credit union member to retire after only 10 years due to a few reasons. The first reason is that the lower bound of the 10-year portfolio is substantially lesser than the 30-year portfolio - at only +/- $97,000.00. The summary statistics also only represent roughly a mean return of +/- 4.99x. Where as, the 30-year simulation projects at minimum a lower bound stock/bond portfolio value of +/- $500,000.00 and a mean return of +- 39.00x."
   ]
  },
  {
   "cell_type": "code",
   "execution_count": null,
   "metadata": {},
   "outputs": [],
   "source": []
  }
 ],
 "metadata": {
  "kernelspec": {
   "display_name": "dev",
   "language": "python",
   "name": "dev"
  },
  "language_info": {
   "codemirror_mode": {
    "name": "ipython",
    "version": 3
   },
   "file_extension": ".py",
   "mimetype": "text/x-python",
   "name": "python",
   "nbconvert_exporter": "python",
   "pygments_lexer": "ipython3",
   "version": "3.7.11"
  }
 },
 "nbformat": 4,
 "nbformat_minor": 4
}
